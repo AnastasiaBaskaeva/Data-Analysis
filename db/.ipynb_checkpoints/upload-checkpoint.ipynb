{
 "cells": [
  {
   "cell_type": "markdown",
   "id": "f788cd12",
   "metadata": {},
   "source": [
    "## Библиотеки"
   ]
  },
  {
   "cell_type": "code",
   "execution_count": 3,
   "id": "9864b296",
   "metadata": {},
   "outputs": [],
   "source": [
    "# Загружаем необходимые библиотеки\n",
    "import pandas as pd\n",
    "import numpy as np"
   ]
  },
  {
   "cell_type": "raw",
   "id": "4c839d02",
   "metadata": {},
   "source": [
    "# Посомтреть директория компа\n",
    "import os\n",
    "current_dir = os.getcwd()\n",
    "print(current_dir)"
   ]
  },
  {
   "cell_type": "code",
   "execution_count": 5,
   "id": "559058b9",
   "metadata": {},
   "outputs": [],
   "source": [
    "# Убрать предупреждения\n",
    "import warnings\n",
    "warnings.filterwarnings('ignore')"
   ]
  },
  {
   "cell_type": "markdown",
   "id": "21e8f63f",
   "metadata": {},
   "source": [
    "## Загрузка данных"
   ]
  },
  {
   "cell_type": "code",
   "execution_count": 8,
   "id": "b41f947c",
   "metadata": {},
   "outputs": [],
   "source": [
    "PATH_OUT = r'C:\\Users\\Admin\\anaconda_projects\\db'"
   ]
  },
  {
   "cell_type": "code",
   "execution_count": 10,
   "id": "f8491467",
   "metadata": {},
   "outputs": [
    {
     "data": {
      "text/plain": [
       "(2997, 12)"
      ]
     },
     "execution_count": 10,
     "metadata": {},
     "output_type": "execute_result"
    }
   ],
   "source": [
    "# Загрузка данных в csv формате\n",
    "df = pd.read_csv(PATH_OUT + '\\\\upload.csv', sep=';', encoding='cp1251', na_values=[' ']) #encoding='utf-8'\n",
    "df = df.dropna()  # удалили строки с пропусками\n",
    "df.shape\n",
    "# df..... # команда, позволяющая вывести"
   ]
  },
  {
   "cell_type": "code",
   "execution_count": 12,
   "id": "ded7c44b",
   "metadata": {},
   "outputs": [
    {
     "data": {
      "text/html": [
       "<div>\n",
       "<style scoped>\n",
       "    .dataframe tbody tr th:only-of-type {\n",
       "        vertical-align: middle;\n",
       "    }\n",
       "\n",
       "    .dataframe tbody tr th {\n",
       "        vertical-align: top;\n",
       "    }\n",
       "\n",
       "    .dataframe thead th {\n",
       "        text-align: right;\n",
       "    }\n",
       "</style>\n",
       "<table border=\"1\" class=\"dataframe\">\n",
       "  <thead>\n",
       "    <tr style=\"text-align: right;\">\n",
       "      <th></th>\n",
       "      <th>Пол</th>\n",
       "      <th>Возраст</th>\n",
       "      <th>Путешествует с детьми</th>\n",
       "      <th>Расстояние</th>\n",
       "      <th>Включён завтрак</th>\n",
       "      <th>Наличие wifi</th>\n",
       "      <th>Оценка удобства добирания до места</th>\n",
       "      <th>Оценка интерсности досуга</th>\n",
       "      <th>Оценка качества питания</th>\n",
       "      <th>Оценка качества wifi</th>\n",
       "      <th>Оценка комфортности палатки</th>\n",
       "      <th>Общая оценка качества предоставленной услуги</th>\n",
       "    </tr>\n",
       "  </thead>\n",
       "  <tbody>\n",
       "    <tr>\n",
       "      <th>0</th>\n",
       "      <td>муж</td>\n",
       "      <td>55,9</td>\n",
       "      <td>нет</td>\n",
       "      <td>677</td>\n",
       "      <td>0</td>\n",
       "      <td>1</td>\n",
       "      <td>2</td>\n",
       "      <td>плохо</td>\n",
       "      <td>отсутствует</td>\n",
       "      <td>плохо</td>\n",
       "      <td>плохо</td>\n",
       "      <td>нормально</td>\n",
       "    </tr>\n",
       "    <tr>\n",
       "      <th>1</th>\n",
       "      <td>жен</td>\n",
       "      <td>37,4</td>\n",
       "      <td>нет</td>\n",
       "      <td>2112</td>\n",
       "      <td>1</td>\n",
       "      <td>0</td>\n",
       "      <td>3</td>\n",
       "      <td>плохо</td>\n",
       "      <td>плохо</td>\n",
       "      <td>отсутствует</td>\n",
       "      <td>хорошо</td>\n",
       "      <td>нормально</td>\n",
       "    </tr>\n",
       "    <tr>\n",
       "      <th>2</th>\n",
       "      <td>жен</td>\n",
       "      <td>48,3</td>\n",
       "      <td>да</td>\n",
       "      <td>1241</td>\n",
       "      <td>1</td>\n",
       "      <td>1</td>\n",
       "      <td>3</td>\n",
       "      <td>нормально</td>\n",
       "      <td>нормально</td>\n",
       "      <td>плохо</td>\n",
       "      <td>плохо</td>\n",
       "      <td>нормально</td>\n",
       "    </tr>\n",
       "    <tr>\n",
       "      <th>3</th>\n",
       "      <td>муж</td>\n",
       "      <td>58,6</td>\n",
       "      <td>да</td>\n",
       "      <td>1579</td>\n",
       "      <td>1</td>\n",
       "      <td>1</td>\n",
       "      <td>4</td>\n",
       "      <td>нормально</td>\n",
       "      <td>плохо</td>\n",
       "      <td>нормально</td>\n",
       "      <td>хорошо</td>\n",
       "      <td>нормально</td>\n",
       "    </tr>\n",
       "    <tr>\n",
       "      <th>4</th>\n",
       "      <td>муж</td>\n",
       "      <td>34,3</td>\n",
       "      <td>нет</td>\n",
       "      <td>469</td>\n",
       "      <td>0</td>\n",
       "      <td>1</td>\n",
       "      <td>4</td>\n",
       "      <td>нормально</td>\n",
       "      <td>отсутствует</td>\n",
       "      <td>плохо</td>\n",
       "      <td>нормально</td>\n",
       "      <td>нормально</td>\n",
       "    </tr>\n",
       "    <tr>\n",
       "      <th>5</th>\n",
       "      <td>муж</td>\n",
       "      <td>33,3</td>\n",
       "      <td>нет</td>\n",
       "      <td>667</td>\n",
       "      <td>0</td>\n",
       "      <td>0</td>\n",
       "      <td>4</td>\n",
       "      <td>плохо</td>\n",
       "      <td>отсутствует</td>\n",
       "      <td>отсутствует</td>\n",
       "      <td>нормально</td>\n",
       "      <td>нормально</td>\n",
       "    </tr>\n",
       "    <tr>\n",
       "      <th>6</th>\n",
       "      <td>жен</td>\n",
       "      <td>45,2</td>\n",
       "      <td>нет</td>\n",
       "      <td>865</td>\n",
       "      <td>1</td>\n",
       "      <td>1</td>\n",
       "      <td>4</td>\n",
       "      <td>хорошо</td>\n",
       "      <td>плохо</td>\n",
       "      <td>хорошо</td>\n",
       "      <td>нормально</td>\n",
       "      <td>хорошо</td>\n",
       "    </tr>\n",
       "  </tbody>\n",
       "</table>\n",
       "</div>"
      ],
      "text/plain": [
       "   Пол Возраст Путешествует с детьми  Расстояние  Включён завтрак  \\\n",
       "0  муж    55,9                   нет         677                0   \n",
       "1  жен    37,4                   нет        2112                1   \n",
       "2  жен    48,3                    да        1241                1   \n",
       "3  муж    58,6                    да        1579                1   \n",
       "4  муж    34,3                   нет         469                0   \n",
       "5  муж    33,3                   нет         667                0   \n",
       "6  жен    45,2                   нет         865                1   \n",
       "\n",
       "   Наличие wifi  Оценка удобства добирания до места Оценка интерсности досуга  \\\n",
       "0             1                                   2                     плохо   \n",
       "1             0                                   3                     плохо   \n",
       "2             1                                   3                 нормально   \n",
       "3             1                                   4                 нормально   \n",
       "4             1                                   4                 нормально   \n",
       "5             0                                   4                     плохо   \n",
       "6             1                                   4                    хорошо   \n",
       "\n",
       "  Оценка качества питания Оценка качества wifi Оценка комфортности палатки  \\\n",
       "0             отсутствует                плохо                       плохо   \n",
       "1                   плохо          отсутствует                      хорошо   \n",
       "2               нормально                плохо                       плохо   \n",
       "3                   плохо            нормально                      хорошо   \n",
       "4             отсутствует                плохо                   нормально   \n",
       "5             отсутствует          отсутствует                   нормально   \n",
       "6                   плохо               хорошо                   нормально   \n",
       "\n",
       "  Общая оценка качества предоставленной услуги  \n",
       "0                                    нормально  \n",
       "1                                    нормально  \n",
       "2                                    нормально  \n",
       "3                                    нормально  \n",
       "4                                    нормально  \n",
       "5                                    нормально  \n",
       "6                                       хорошо  "
      ]
     },
     "execution_count": 12,
     "metadata": {},
     "output_type": "execute_result"
    }
   ],
   "source": [
    "df.head(7)"
   ]
  },
  {
   "cell_type": "code",
   "execution_count": 14,
   "id": "1d4608e9",
   "metadata": {
    "scrolled": true
   },
   "outputs": [
    {
     "data": {
      "text/plain": [
       "Пол                                             0\n",
       "Возраст                                         0\n",
       "Путешествует с детьми                           0\n",
       "Расстояние                                      0\n",
       "Включён завтрак                                 0\n",
       "Наличие wifi                                    0\n",
       "Оценка удобства добирания до места              0\n",
       "Оценка интерсности досуга                       0\n",
       "Оценка качества питания                         0\n",
       "Оценка качества wifi                            0\n",
       "Оценка комфортности палатки                     0\n",
       "Общая оценка качества предоставленной услуги    0\n",
       "dtype: int64"
      ]
     },
     "execution_count": 14,
     "metadata": {},
     "output_type": "execute_result"
    }
   ],
   "source": [
    "df.isna().sum()"
   ]
  },
  {
   "cell_type": "code",
   "execution_count": null,
   "id": "c1c631c8",
   "metadata": {},
   "outputs": [],
   "source": []
  },
  {
   "cell_type": "code",
   "execution_count": 17,
   "id": "6005468c",
   "metadata": {},
   "outputs": [
    {
     "data": {
      "text/html": [
       "<div>\n",
       "<style scoped>\n",
       "    .dataframe tbody tr th:only-of-type {\n",
       "        vertical-align: middle;\n",
       "    }\n",
       "\n",
       "    .dataframe tbody tr th {\n",
       "        vertical-align: top;\n",
       "    }\n",
       "\n",
       "    .dataframe thead th {\n",
       "        text-align: right;\n",
       "    }\n",
       "</style>\n",
       "<table border=\"1\" class=\"dataframe\">\n",
       "  <thead>\n",
       "    <tr style=\"text-align: right;\">\n",
       "      <th></th>\n",
       "      <th>Пол</th>\n",
       "      <th>Возраст</th>\n",
       "      <th>Путешествует с детьми</th>\n",
       "      <th>Расстояние</th>\n",
       "      <th>Включён завтрак</th>\n",
       "      <th>Наличие wifi</th>\n",
       "      <th>Оценка удобства добирания до места</th>\n",
       "      <th>Оценка интерсности досуга</th>\n",
       "      <th>Оценка качества питания</th>\n",
       "      <th>Оценка качества wifi</th>\n",
       "      <th>Оценка комфортности палатки</th>\n",
       "      <th>Общая оценка качества предоставленной услуги</th>\n",
       "    </tr>\n",
       "  </thead>\n",
       "  <tbody>\n",
       "    <tr>\n",
       "      <th>0</th>\n",
       "      <td>муж</td>\n",
       "      <td>55,9</td>\n",
       "      <td>нет</td>\n",
       "      <td>677</td>\n",
       "      <td>0</td>\n",
       "      <td>1</td>\n",
       "      <td>2</td>\n",
       "      <td>плохо</td>\n",
       "      <td>отсутствует</td>\n",
       "      <td>плохо</td>\n",
       "      <td>плохо</td>\n",
       "      <td>нормально</td>\n",
       "    </tr>\n",
       "    <tr>\n",
       "      <th>1</th>\n",
       "      <td>жен</td>\n",
       "      <td>37,4</td>\n",
       "      <td>нет</td>\n",
       "      <td>2112</td>\n",
       "      <td>1</td>\n",
       "      <td>0</td>\n",
       "      <td>3</td>\n",
       "      <td>плохо</td>\n",
       "      <td>плохо</td>\n",
       "      <td>отсутствует</td>\n",
       "      <td>хорошо</td>\n",
       "      <td>нормально</td>\n",
       "    </tr>\n",
       "    <tr>\n",
       "      <th>2</th>\n",
       "      <td>жен</td>\n",
       "      <td>48,3</td>\n",
       "      <td>да</td>\n",
       "      <td>1241</td>\n",
       "      <td>1</td>\n",
       "      <td>1</td>\n",
       "      <td>3</td>\n",
       "      <td>нормально</td>\n",
       "      <td>нормально</td>\n",
       "      <td>плохо</td>\n",
       "      <td>плохо</td>\n",
       "      <td>нормально</td>\n",
       "    </tr>\n",
       "    <tr>\n",
       "      <th>3</th>\n",
       "      <td>муж</td>\n",
       "      <td>58,6</td>\n",
       "      <td>да</td>\n",
       "      <td>1579</td>\n",
       "      <td>1</td>\n",
       "      <td>1</td>\n",
       "      <td>4</td>\n",
       "      <td>нормально</td>\n",
       "      <td>плохо</td>\n",
       "      <td>нормально</td>\n",
       "      <td>хорошо</td>\n",
       "      <td>нормально</td>\n",
       "    </tr>\n",
       "    <tr>\n",
       "      <th>4</th>\n",
       "      <td>муж</td>\n",
       "      <td>34,3</td>\n",
       "      <td>нет</td>\n",
       "      <td>469</td>\n",
       "      <td>0</td>\n",
       "      <td>1</td>\n",
       "      <td>4</td>\n",
       "      <td>нормально</td>\n",
       "      <td>отсутствует</td>\n",
       "      <td>плохо</td>\n",
       "      <td>нормально</td>\n",
       "      <td>нормально</td>\n",
       "    </tr>\n",
       "  </tbody>\n",
       "</table>\n",
       "</div>"
      ],
      "text/plain": [
       "   Пол Возраст Путешествует с детьми  Расстояние  Включён завтрак  \\\n",
       "0  муж    55,9                   нет         677                0   \n",
       "1  жен    37,4                   нет        2112                1   \n",
       "2  жен    48,3                    да        1241                1   \n",
       "3  муж    58,6                    да        1579                1   \n",
       "4  муж    34,3                   нет         469                0   \n",
       "\n",
       "   Наличие wifi  Оценка удобства добирания до места Оценка интерсности досуга  \\\n",
       "0             1                                   2                     плохо   \n",
       "1             0                                   3                     плохо   \n",
       "2             1                                   3                 нормально   \n",
       "3             1                                   4                 нормально   \n",
       "4             1                                   4                 нормально   \n",
       "\n",
       "  Оценка качества питания Оценка качества wifi Оценка комфортности палатки  \\\n",
       "0             отсутствует                плохо                       плохо   \n",
       "1                   плохо          отсутствует                      хорошо   \n",
       "2               нормально                плохо                       плохо   \n",
       "3                   плохо            нормально                      хорошо   \n",
       "4             отсутствует                плохо                   нормально   \n",
       "\n",
       "  Общая оценка качества предоставленной услуги  \n",
       "0                                    нормально  \n",
       "1                                    нормально  \n",
       "2                                    нормально  \n",
       "3                                    нормально  \n",
       "4                                    нормально  "
      ]
     },
     "execution_count": 17,
     "metadata": {},
     "output_type": "execute_result"
    }
   ],
   "source": [
    "# а если вывести несколько столбцов?\n",
    "df.head()"
   ]
  },
  {
   "cell_type": "code",
   "execution_count": null,
   "id": "e27eca5d",
   "metadata": {},
   "outputs": [],
   "source": []
  },
  {
   "cell_type": "code",
   "execution_count": 20,
   "id": "71c05256",
   "metadata": {},
   "outputs": [],
   "source": [
    "dd = df['Пол'].name"
   ]
  },
  {
   "cell_type": "code",
   "execution_count": 22,
   "id": "d3d0fa79",
   "metadata": {},
   "outputs": [
    {
     "data": {
      "text/plain": [
       "'Пол'"
      ]
     },
     "execution_count": 22,
     "metadata": {},
     "output_type": "execute_result"
    }
   ],
   "source": [
    "dd"
   ]
  },
  {
   "cell_type": "code",
   "execution_count": 24,
   "id": "c354ecdd",
   "metadata": {},
   "outputs": [
    {
     "data": {
      "text/plain": [
       "'пол'"
      ]
     },
     "execution_count": 24,
     "metadata": {},
     "output_type": "execute_result"
    }
   ],
   "source": [
    "dd.lower()"
   ]
  },
  {
   "cell_type": "code",
   "execution_count": 26,
   "id": "b22ebf69",
   "metadata": {},
   "outputs": [
    {
     "data": {
      "text/plain": [
       "'Путешествует_с_детьми'"
      ]
     },
     "execution_count": 26,
     "metadata": {},
     "output_type": "execute_result"
    }
   ],
   "source": [
    "df['Путешествует с детьми'].name.replace(' ', '_')"
   ]
  },
  {
   "cell_type": "code",
   "execution_count": 28,
   "id": "9b66de65",
   "metadata": {},
   "outputs": [
    {
     "data": {
      "text/plain": [
       "'Путешествует с детьми'"
      ]
     },
     "execution_count": 28,
     "metadata": {},
     "output_type": "execute_result"
    }
   ],
   "source": [
    "df['Путешествует с детьми'].name"
   ]
  },
  {
   "cell_type": "code",
   "execution_count": 30,
   "id": "9dc7c0b0",
   "metadata": {},
   "outputs": [
    {
     "data": {
      "text/plain": [
       "Index(['Пол', 'Возраст', 'Путешествует с детьми', 'Расстояние',\n",
       "       'Включён завтрак', 'Наличие wifi', 'Оценка удобства добирания до места',\n",
       "       'Оценка интерсности досуга', 'Оценка качества питания',\n",
       "       'Оценка качества wifi', 'Оценка комфортности палатки',\n",
       "       'Общая оценка качества предоставленной услуги'],\n",
       "      dtype='object')"
      ]
     },
     "execution_count": 30,
     "metadata": {},
     "output_type": "execute_result"
    }
   ],
   "source": [
    "# можно вывести названия колонок\n",
    "df.columns"
   ]
  },
  {
   "cell_type": "code",
   "execution_count": null,
   "id": "c3d37412",
   "metadata": {},
   "outputs": [],
   "source": []
  },
  {
   "cell_type": "markdown",
   "id": "de804068",
   "metadata": {},
   "source": [
    "#### привести названия колонок к PEP8"
   ]
  },
  {
   "cell_type": "code",
   "execution_count": 34,
   "id": "d70a8052",
   "metadata": {},
   "outputs": [
    {
     "data": {
      "text/html": [
       "<div>\n",
       "<style scoped>\n",
       "    .dataframe tbody tr th:only-of-type {\n",
       "        vertical-align: middle;\n",
       "    }\n",
       "\n",
       "    .dataframe tbody tr th {\n",
       "        vertical-align: top;\n",
       "    }\n",
       "\n",
       "    .dataframe thead th {\n",
       "        text-align: right;\n",
       "    }\n",
       "</style>\n",
       "<table border=\"1\" class=\"dataframe\">\n",
       "  <thead>\n",
       "    <tr style=\"text-align: right;\">\n",
       "      <th></th>\n",
       "      <th>Пол</th>\n",
       "      <th>Возраст</th>\n",
       "      <th>Путешествует с детьми</th>\n",
       "      <th>Расстояние</th>\n",
       "      <th>Включён завтрак</th>\n",
       "      <th>Наличие wifi</th>\n",
       "      <th>Оценка удобства добирания до места</th>\n",
       "      <th>Оценка интерсности досуга</th>\n",
       "      <th>Оценка качества питания</th>\n",
       "      <th>Оценка качества wifi</th>\n",
       "      <th>Оценка комфортности палатки</th>\n",
       "      <th>Общая оценка качества предоставленной услуги</th>\n",
       "    </tr>\n",
       "  </thead>\n",
       "  <tbody>\n",
       "    <tr>\n",
       "      <th>0</th>\n",
       "      <td>муж</td>\n",
       "      <td>55,9</td>\n",
       "      <td>нет</td>\n",
       "      <td>677</td>\n",
       "      <td>0</td>\n",
       "      <td>1</td>\n",
       "      <td>2</td>\n",
       "      <td>плохо</td>\n",
       "      <td>отсутствует</td>\n",
       "      <td>плохо</td>\n",
       "      <td>плохо</td>\n",
       "      <td>нормально</td>\n",
       "    </tr>\n",
       "    <tr>\n",
       "      <th>1</th>\n",
       "      <td>жен</td>\n",
       "      <td>37,4</td>\n",
       "      <td>нет</td>\n",
       "      <td>2112</td>\n",
       "      <td>1</td>\n",
       "      <td>0</td>\n",
       "      <td>3</td>\n",
       "      <td>плохо</td>\n",
       "      <td>плохо</td>\n",
       "      <td>отсутствует</td>\n",
       "      <td>хорошо</td>\n",
       "      <td>нормально</td>\n",
       "    </tr>\n",
       "    <tr>\n",
       "      <th>2</th>\n",
       "      <td>жен</td>\n",
       "      <td>48,3</td>\n",
       "      <td>да</td>\n",
       "      <td>1241</td>\n",
       "      <td>1</td>\n",
       "      <td>1</td>\n",
       "      <td>3</td>\n",
       "      <td>нормально</td>\n",
       "      <td>нормально</td>\n",
       "      <td>плохо</td>\n",
       "      <td>плохо</td>\n",
       "      <td>нормально</td>\n",
       "    </tr>\n",
       "  </tbody>\n",
       "</table>\n",
       "</div>"
      ],
      "text/plain": [
       "   Пол Возраст Путешествует с детьми  Расстояние  Включён завтрак  \\\n",
       "0  муж    55,9                   нет         677                0   \n",
       "1  жен    37,4                   нет        2112                1   \n",
       "2  жен    48,3                    да        1241                1   \n",
       "\n",
       "   Наличие wifi  Оценка удобства добирания до места Оценка интерсности досуга  \\\n",
       "0             1                                   2                     плохо   \n",
       "1             0                                   3                     плохо   \n",
       "2             1                                   3                 нормально   \n",
       "\n",
       "  Оценка качества питания Оценка качества wifi Оценка комфортности палатки  \\\n",
       "0             отсутствует                плохо                       плохо   \n",
       "1                   плохо          отсутствует                      хорошо   \n",
       "2               нормально                плохо                       плохо   \n",
       "\n",
       "  Общая оценка качества предоставленной услуги  \n",
       "0                                    нормально  \n",
       "1                                    нормально  \n",
       "2                                    нормально  "
      ]
     },
     "execution_count": 34,
     "metadata": {},
     "output_type": "execute_result"
    }
   ],
   "source": [
    "df.head(3)"
   ]
  },
  {
   "cell_type": "code",
   "execution_count": null,
   "id": "e09b4c29",
   "metadata": {},
   "outputs": [],
   "source": []
  },
  {
   "cell_type": "markdown",
   "id": "38065824",
   "metadata": {},
   "source": [
    "#### Изучение типов данных"
   ]
  },
  {
   "cell_type": "code",
   "execution_count": 37,
   "id": "ae3c317a",
   "metadata": {},
   "outputs": [
    {
     "name": "stdout",
     "output_type": "stream",
     "text": [
      "<class 'pandas.core.frame.DataFrame'>\n",
      "Index: 2997 entries, 0 to 2998\n",
      "Data columns (total 12 columns):\n",
      " #   Column                                        Non-Null Count  Dtype \n",
      "---  ------                                        --------------  ----- \n",
      " 0   Пол                                           2997 non-null   object\n",
      " 1   Возраст                                       2997 non-null   object\n",
      " 2   Путешествует с детьми                         2997 non-null   object\n",
      " 3   Расстояние                                    2997 non-null   int64 \n",
      " 4   Включён завтрак                               2997 non-null   int64 \n",
      " 5   Наличие wifi                                  2997 non-null   int64 \n",
      " 6   Оценка удобства добирания до места            2997 non-null   int64 \n",
      " 7   Оценка интерсности досуга                     2997 non-null   object\n",
      " 8   Оценка качества питания                       2997 non-null   object\n",
      " 9   Оценка качества wifi                          2997 non-null   object\n",
      " 10  Оценка комфортности палатки                   2997 non-null   object\n",
      " 11  Общая оценка качества предоставленной услуги  2997 non-null   object\n",
      "dtypes: int64(4), object(8)\n",
      "memory usage: 304.4+ KB\n"
     ]
    }
   ],
   "source": [
    "df.info()"
   ]
  },
  {
   "cell_type": "code",
   "execution_count": null,
   "id": "51db6e2f",
   "metadata": {},
   "outputs": [],
   "source": []
  },
  {
   "cell_type": "code",
   "execution_count": 39,
   "id": "bc621c40",
   "metadata": {},
   "outputs": [
    {
     "ename": "ValueError",
     "evalue": "invalid literal for int() with base 10: '55,9'",
     "output_type": "error",
     "traceback": [
      "\u001b[1;31m---------------------------------------------------------------------------\u001b[0m",
      "\u001b[1;31mValueError\u001b[0m                                Traceback (most recent call last)",
      "Cell \u001b[1;32mIn[39], line 2\u001b[0m\n\u001b[0;32m      1\u001b[0m \u001b[38;5;66;03m# конструкция для изменения типов данных\u001b[39;00m\n\u001b[1;32m----> 2\u001b[0m df[\u001b[38;5;124m'\u001b[39m\u001b[38;5;124mВозраст\u001b[39m\u001b[38;5;124m'\u001b[39m] \u001b[38;5;241m=\u001b[39m df[\u001b[38;5;124m'\u001b[39m\u001b[38;5;124mВозраст\u001b[39m\u001b[38;5;124m'\u001b[39m]\u001b[38;5;241m.\u001b[39mastype(\u001b[38;5;28mint\u001b[39m)\n",
      "File \u001b[1;32m~\\anaconda3\\Lib\\site-packages\\pandas\\core\\generic.py:6643\u001b[0m, in \u001b[0;36mNDFrame.astype\u001b[1;34m(self, dtype, copy, errors)\u001b[0m\n\u001b[0;32m   6637\u001b[0m     results \u001b[38;5;241m=\u001b[39m [\n\u001b[0;32m   6638\u001b[0m         ser\u001b[38;5;241m.\u001b[39mastype(dtype, copy\u001b[38;5;241m=\u001b[39mcopy, errors\u001b[38;5;241m=\u001b[39merrors) \u001b[38;5;28;01mfor\u001b[39;00m _, ser \u001b[38;5;129;01min\u001b[39;00m \u001b[38;5;28mself\u001b[39m\u001b[38;5;241m.\u001b[39mitems()\n\u001b[0;32m   6639\u001b[0m     ]\n\u001b[0;32m   6641\u001b[0m \u001b[38;5;28;01melse\u001b[39;00m:\n\u001b[0;32m   6642\u001b[0m     \u001b[38;5;66;03m# else, only a single dtype is given\u001b[39;00m\n\u001b[1;32m-> 6643\u001b[0m     new_data \u001b[38;5;241m=\u001b[39m \u001b[38;5;28mself\u001b[39m\u001b[38;5;241m.\u001b[39m_mgr\u001b[38;5;241m.\u001b[39mastype(dtype\u001b[38;5;241m=\u001b[39mdtype, copy\u001b[38;5;241m=\u001b[39mcopy, errors\u001b[38;5;241m=\u001b[39merrors)\n\u001b[0;32m   6644\u001b[0m     res \u001b[38;5;241m=\u001b[39m \u001b[38;5;28mself\u001b[39m\u001b[38;5;241m.\u001b[39m_constructor_from_mgr(new_data, axes\u001b[38;5;241m=\u001b[39mnew_data\u001b[38;5;241m.\u001b[39maxes)\n\u001b[0;32m   6645\u001b[0m     \u001b[38;5;28;01mreturn\u001b[39;00m res\u001b[38;5;241m.\u001b[39m__finalize__(\u001b[38;5;28mself\u001b[39m, method\u001b[38;5;241m=\u001b[39m\u001b[38;5;124m\"\u001b[39m\u001b[38;5;124mastype\u001b[39m\u001b[38;5;124m\"\u001b[39m)\n",
      "File \u001b[1;32m~\\anaconda3\\Lib\\site-packages\\pandas\\core\\internals\\managers.py:430\u001b[0m, in \u001b[0;36mBaseBlockManager.astype\u001b[1;34m(self, dtype, copy, errors)\u001b[0m\n\u001b[0;32m    427\u001b[0m \u001b[38;5;28;01melif\u001b[39;00m using_copy_on_write():\n\u001b[0;32m    428\u001b[0m     copy \u001b[38;5;241m=\u001b[39m \u001b[38;5;28;01mFalse\u001b[39;00m\n\u001b[1;32m--> 430\u001b[0m \u001b[38;5;28;01mreturn\u001b[39;00m \u001b[38;5;28mself\u001b[39m\u001b[38;5;241m.\u001b[39mapply(\n\u001b[0;32m    431\u001b[0m     \u001b[38;5;124m\"\u001b[39m\u001b[38;5;124mastype\u001b[39m\u001b[38;5;124m\"\u001b[39m,\n\u001b[0;32m    432\u001b[0m     dtype\u001b[38;5;241m=\u001b[39mdtype,\n\u001b[0;32m    433\u001b[0m     copy\u001b[38;5;241m=\u001b[39mcopy,\n\u001b[0;32m    434\u001b[0m     errors\u001b[38;5;241m=\u001b[39merrors,\n\u001b[0;32m    435\u001b[0m     using_cow\u001b[38;5;241m=\u001b[39musing_copy_on_write(),\n\u001b[0;32m    436\u001b[0m )\n",
      "File \u001b[1;32m~\\anaconda3\\Lib\\site-packages\\pandas\\core\\internals\\managers.py:363\u001b[0m, in \u001b[0;36mBaseBlockManager.apply\u001b[1;34m(self, f, align_keys, **kwargs)\u001b[0m\n\u001b[0;32m    361\u001b[0m         applied \u001b[38;5;241m=\u001b[39m b\u001b[38;5;241m.\u001b[39mapply(f, \u001b[38;5;241m*\u001b[39m\u001b[38;5;241m*\u001b[39mkwargs)\n\u001b[0;32m    362\u001b[0m     \u001b[38;5;28;01melse\u001b[39;00m:\n\u001b[1;32m--> 363\u001b[0m         applied \u001b[38;5;241m=\u001b[39m \u001b[38;5;28mgetattr\u001b[39m(b, f)(\u001b[38;5;241m*\u001b[39m\u001b[38;5;241m*\u001b[39mkwargs)\n\u001b[0;32m    364\u001b[0m     result_blocks \u001b[38;5;241m=\u001b[39m extend_blocks(applied, result_blocks)\n\u001b[0;32m    366\u001b[0m out \u001b[38;5;241m=\u001b[39m \u001b[38;5;28mtype\u001b[39m(\u001b[38;5;28mself\u001b[39m)\u001b[38;5;241m.\u001b[39mfrom_blocks(result_blocks, \u001b[38;5;28mself\u001b[39m\u001b[38;5;241m.\u001b[39maxes)\n",
      "File \u001b[1;32m~\\anaconda3\\Lib\\site-packages\\pandas\\core\\internals\\blocks.py:758\u001b[0m, in \u001b[0;36mBlock.astype\u001b[1;34m(self, dtype, copy, errors, using_cow, squeeze)\u001b[0m\n\u001b[0;32m    755\u001b[0m         \u001b[38;5;28;01mraise\u001b[39;00m \u001b[38;5;167;01mValueError\u001b[39;00m(\u001b[38;5;124m\"\u001b[39m\u001b[38;5;124mCan not squeeze with more than one column.\u001b[39m\u001b[38;5;124m\"\u001b[39m)\n\u001b[0;32m    756\u001b[0m     values \u001b[38;5;241m=\u001b[39m values[\u001b[38;5;241m0\u001b[39m, :]  \u001b[38;5;66;03m# type: ignore[call-overload]\u001b[39;00m\n\u001b[1;32m--> 758\u001b[0m new_values \u001b[38;5;241m=\u001b[39m astype_array_safe(values, dtype, copy\u001b[38;5;241m=\u001b[39mcopy, errors\u001b[38;5;241m=\u001b[39merrors)\n\u001b[0;32m    760\u001b[0m new_values \u001b[38;5;241m=\u001b[39m maybe_coerce_values(new_values)\n\u001b[0;32m    762\u001b[0m refs \u001b[38;5;241m=\u001b[39m \u001b[38;5;28;01mNone\u001b[39;00m\n",
      "File \u001b[1;32m~\\anaconda3\\Lib\\site-packages\\pandas\\core\\dtypes\\astype.py:237\u001b[0m, in \u001b[0;36mastype_array_safe\u001b[1;34m(values, dtype, copy, errors)\u001b[0m\n\u001b[0;32m    234\u001b[0m     dtype \u001b[38;5;241m=\u001b[39m dtype\u001b[38;5;241m.\u001b[39mnumpy_dtype\n\u001b[0;32m    236\u001b[0m \u001b[38;5;28;01mtry\u001b[39;00m:\n\u001b[1;32m--> 237\u001b[0m     new_values \u001b[38;5;241m=\u001b[39m astype_array(values, dtype, copy\u001b[38;5;241m=\u001b[39mcopy)\n\u001b[0;32m    238\u001b[0m \u001b[38;5;28;01mexcept\u001b[39;00m (\u001b[38;5;167;01mValueError\u001b[39;00m, \u001b[38;5;167;01mTypeError\u001b[39;00m):\n\u001b[0;32m    239\u001b[0m     \u001b[38;5;66;03m# e.g. _astype_nansafe can fail on object-dtype of strings\u001b[39;00m\n\u001b[0;32m    240\u001b[0m     \u001b[38;5;66;03m#  trying to convert to float\u001b[39;00m\n\u001b[0;32m    241\u001b[0m     \u001b[38;5;28;01mif\u001b[39;00m errors \u001b[38;5;241m==\u001b[39m \u001b[38;5;124m\"\u001b[39m\u001b[38;5;124mignore\u001b[39m\u001b[38;5;124m\"\u001b[39m:\n",
      "File \u001b[1;32m~\\anaconda3\\Lib\\site-packages\\pandas\\core\\dtypes\\astype.py:182\u001b[0m, in \u001b[0;36mastype_array\u001b[1;34m(values, dtype, copy)\u001b[0m\n\u001b[0;32m    179\u001b[0m     values \u001b[38;5;241m=\u001b[39m values\u001b[38;5;241m.\u001b[39mastype(dtype, copy\u001b[38;5;241m=\u001b[39mcopy)\n\u001b[0;32m    181\u001b[0m \u001b[38;5;28;01melse\u001b[39;00m:\n\u001b[1;32m--> 182\u001b[0m     values \u001b[38;5;241m=\u001b[39m _astype_nansafe(values, dtype, copy\u001b[38;5;241m=\u001b[39mcopy)\n\u001b[0;32m    184\u001b[0m \u001b[38;5;66;03m# in pandas we don't store numpy str dtypes, so convert to object\u001b[39;00m\n\u001b[0;32m    185\u001b[0m \u001b[38;5;28;01mif\u001b[39;00m \u001b[38;5;28misinstance\u001b[39m(dtype, np\u001b[38;5;241m.\u001b[39mdtype) \u001b[38;5;129;01mand\u001b[39;00m \u001b[38;5;28missubclass\u001b[39m(values\u001b[38;5;241m.\u001b[39mdtype\u001b[38;5;241m.\u001b[39mtype, \u001b[38;5;28mstr\u001b[39m):\n",
      "File \u001b[1;32m~\\anaconda3\\Lib\\site-packages\\pandas\\core\\dtypes\\astype.py:133\u001b[0m, in \u001b[0;36m_astype_nansafe\u001b[1;34m(arr, dtype, copy, skipna)\u001b[0m\n\u001b[0;32m    129\u001b[0m     \u001b[38;5;28;01mraise\u001b[39;00m \u001b[38;5;167;01mValueError\u001b[39;00m(msg)\n\u001b[0;32m    131\u001b[0m \u001b[38;5;28;01mif\u001b[39;00m copy \u001b[38;5;129;01mor\u001b[39;00m arr\u001b[38;5;241m.\u001b[39mdtype \u001b[38;5;241m==\u001b[39m \u001b[38;5;28mobject\u001b[39m \u001b[38;5;129;01mor\u001b[39;00m dtype \u001b[38;5;241m==\u001b[39m \u001b[38;5;28mobject\u001b[39m:\n\u001b[0;32m    132\u001b[0m     \u001b[38;5;66;03m# Explicit copy, or required since NumPy can't view from / to object.\u001b[39;00m\n\u001b[1;32m--> 133\u001b[0m     \u001b[38;5;28;01mreturn\u001b[39;00m arr\u001b[38;5;241m.\u001b[39mastype(dtype, copy\u001b[38;5;241m=\u001b[39m\u001b[38;5;28;01mTrue\u001b[39;00m)\n\u001b[0;32m    135\u001b[0m \u001b[38;5;28;01mreturn\u001b[39;00m arr\u001b[38;5;241m.\u001b[39mastype(dtype, copy\u001b[38;5;241m=\u001b[39mcopy)\n",
      "\u001b[1;31mValueError\u001b[0m: invalid literal for int() with base 10: '55,9'"
     ]
    }
   ],
   "source": [
    "# конструкция для изменения типов данных\n",
    "df['Возраст'] = df['Возраст'].astype(int) # (int/object)"
   ]
  },
  {
   "cell_type": "code",
   "execution_count": null,
   "id": "ab5c3f98",
   "metadata": {},
   "outputs": [],
   "source": [
    "# df['Возраст'] = df['Возраст'].replace(',', '.', regex=true)\n",
    "round(df['Возраст'].astype(int), 0)"
   ]
  },
  {
   "cell_type": "code",
   "execution_count": null,
   "id": "0a9ed1aa",
   "metadata": {},
   "outputs": [],
   "source": [
    "df.info()"
   ]
  },
  {
   "cell_type": "markdown",
   "id": "ab5d1bd0",
   "metadata": {},
   "source": [
    "## Перевод в категориальгные шкалы"
   ]
  },
  {
   "cell_type": "code",
   "execution_count": null,
   "id": "9c109af0",
   "metadata": {},
   "outputs": [],
   "source": [
    "df.head(4)"
   ]
  },
  {
   "cell_type": "code",
   "execution_count": null,
   "id": "58b7389e",
   "metadata": {},
   "outputs": [],
   "source": []
  },
  {
   "cell_type": "code",
   "execution_count": null,
   "id": "4754a2b6",
   "metadata": {},
   "outputs": [],
   "source": [
    "df['расст_кат'] = df['Расстояние'].apply(lambda x: 'близко' if x <= 500 else 'далеко')"
   ]
  },
  {
   "cell_type": "code",
   "execution_count": null,
   "id": "ebda5daf",
   "metadata": {},
   "outputs": [],
   "source": [
    "df.head(4)"
   ]
  },
  {
   "cell_type": "code",
   "execution_count": null,
   "id": "378e30b7",
   "metadata": {},
   "outputs": [],
   "source": []
  },
  {
   "cell_type": "code",
   "execution_count": null,
   "id": "f050ec0c",
   "metadata": {},
   "outputs": [],
   "source": []
  },
  {
   "cell_type": "markdown",
   "id": "9dcaff3f",
   "metadata": {},
   "source": [
    "## Посчитать количество категориальных данных"
   ]
  },
  {
   "cell_type": "code",
   "execution_count": null,
   "id": "60c62dcc",
   "metadata": {},
   "outputs": [],
   "source": [
    "df['расст_кат'].value_counts()"
   ]
  },
  {
   "cell_type": "code",
   "execution_count": null,
   "id": "f5c090d8",
   "metadata": {},
   "outputs": [],
   "source": []
  },
  {
   "cell_type": "markdown",
   "id": "ab5846ea",
   "metadata": {},
   "source": [
    "### Выбрать группу данных для работы"
   ]
  },
  {
   "cell_type": "code",
   "execution_count": null,
   "id": "fe43835e",
   "metadata": {},
   "outputs": [],
   "source": [
    "df[df['Общая оценка качества предоставленной услуги'] == 'плохо']"
   ]
  },
  {
   "cell_type": "code",
   "execution_count": null,
   "id": "5a6ce396",
   "metadata": {},
   "outputs": [],
   "source": []
  },
  {
   "cell_type": "code",
   "execution_count": null,
   "id": "b0ca0cbc",
   "metadata": {},
   "outputs": [],
   "source": [
    "df[df['Расстояние'] > 500]"
   ]
  },
  {
   "cell_type": "code",
   "execution_count": null,
   "id": "e012229b",
   "metadata": {},
   "outputs": [],
   "source": []
  },
  {
   "cell_type": "markdown",
   "id": "186c5a5f",
   "metadata": {},
   "source": [
    "## Группировка данных"
   ]
  },
  {
   "cell_type": "code",
   "execution_count": null,
   "id": "eb93aa84",
   "metadata": {},
   "outputs": [],
   "source": [
    "Расстояние"
   ]
  },
  {
   "cell_type": "code",
   "execution_count": null,
   "id": "0f07cd16",
   "metadata": {},
   "outputs": [],
   "source": [
    "df.groupby(['Пол','Путешествует с детьми'])['Расстояние'].agg(sum)"
   ]
  },
  {
   "cell_type": "code",
   "execution_count": null,
   "id": "d28fc38d",
   "metadata": {},
   "outputs": [],
   "source": [
    "df.groupby(['Пол'])['Расстояние'].agg(['sum', 'min', 'max'])"
   ]
  },
  {
   "cell_type": "code",
   "execution_count": null,
   "id": "64dbb143",
   "metadata": {},
   "outputs": [],
   "source": [
    "df.columns = (df.columns.str.lower()\n",
    "              .str.replace(' ', '_')\n",
    "              .str.replace('-', '_'))\n",
    "result = (\n",
    "    df.groupby('путешествует_с_детьми')\n",
    "    ['общая_оценка_качества_предоставленной_услуги']\n",
    "    .value_counts(normalize=True) * 100)\n",
    "result.round(1)"
   ]
  },
  {
   "cell_type": "code",
   "execution_count": null,
   "id": "65d4aac5",
   "metadata": {},
   "outputs": [],
   "source": [
    "df.groupby(['Пол']).size()"
   ]
  },
  {
   "cell_type": "code",
   "execution_count": null,
   "id": "6da97f7e",
   "metadata": {},
   "outputs": [],
   "source": [
    "df['Пол'].value_counts()"
   ]
  },
  {
   "cell_type": "code",
   "execution_count": null,
   "id": "68c58bce",
   "metadata": {},
   "outputs": [],
   "source": []
  },
  {
   "cell_type": "code",
   "execution_count": null,
   "id": "e4759130",
   "metadata": {},
   "outputs": [],
   "source": [
    "pivot_table() - обязательно посмотреть !!!!!!!!!!!!!!!"
   ]
  },
  {
   "cell_type": "code",
   "execution_count": 52,
   "id": "ade4b789",
   "metadata": {},
   "outputs": [
    {
     "data": {
      "text/plain": [
       "0       55,9\n",
       "1       37,4\n",
       "2       48,3\n",
       "3       58,6\n",
       "4       34,3\n",
       "        ... \n",
       "2994    40,8\n",
       "2995    43,8\n",
       "2996    40,8\n",
       "2997    49,4\n",
       "2998    60,5\n",
       "Name: возраст, Length: 2997, dtype: object"
      ]
     },
     "execution_count": 52,
     "metadata": {},
     "output_type": "execute_result"
    }
   ],
   "source": [
    "df.columns = df.columns.str.lower().str.replace(' ', '_')\n",
    "df['возраст']"
   ]
  },
  {
   "cell_type": "code",
   "execution_count": 60,
   "id": "8b354849",
   "metadata": {},
   "outputs": [
    {
     "data": {
      "text/plain": [
       "0       нормально\n",
       "1       нормально\n",
       "2       нормально\n",
       "3       нормально\n",
       "4       нормально\n",
       "          ...    \n",
       "2994    нормально\n",
       "2995    нормально\n",
       "2996    нормально\n",
       "2997    нормально\n",
       "2998    нормально\n",
       "Name: общая_оценка_качества_предоставленной_услуги, Length: 2997, dtype: object"
      ]
     },
     "execution_count": 60,
     "metadata": {},
     "output_type": "execute_result"
    }
   ],
   "source": [
    "suk = df['общая_оценка_качества_предоставленной_услуги']\n",
    "suk"
   ]
  },
  {
   "cell_type": "code",
   "execution_count": 64,
   "id": "d1cd16f5",
   "metadata": {},
   "outputs": [
    {
     "name": "stdout",
     "output_type": "stream",
     "text": [
      "                                                                       0\n",
      "путешествует_с_детьми общая_оценка_качества_предоставленной_услуги      \n",
      "да                    нормально                                     67.2\n",
      "                      хорошо                                        18.1\n",
      "                      плохо                                         14.8\n",
      "нет                   нормально                                     65.7\n",
      "                      хорошо                                        21.0\n",
      "                      плохо                                         13.4\n"
     ]
    }
   ],
   "source": [
    "result = (\n",
    "    df.groupby('путешествует_с_детьми')\n",
    "    ['общая_оценка_качества_предоставленной_услуги']\n",
    "    .value_counts(normalize=True) * 100)\n",
    "result = result.round(1).to_frame(name='0')\n",
    "print(result)\n"
   ]
  },
  {
   "cell_type": "code",
   "execution_count": null,
   "id": "b4470d99-82c8-4374-adea-01b4baa8ea17",
   "metadata": {},
   "outputs": [],
   "source": []
  }
 ],
 "metadata": {
  "kernelspec": {
   "display_name": "Python [conda env:base] *",
   "language": "python",
   "name": "conda-base-py"
  },
  "language_info": {
   "codemirror_mode": {
    "name": "ipython",
    "version": 3
   },
   "file_extension": ".py",
   "mimetype": "text/x-python",
   "name": "python",
   "nbconvert_exporter": "python",
   "pygments_lexer": "ipython3",
   "version": "3.12.7"
  }
 },
 "nbformat": 4,
 "nbformat_minor": 5
}

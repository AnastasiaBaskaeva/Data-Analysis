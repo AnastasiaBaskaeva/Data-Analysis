{
 "cells": [
  {
   "cell_type": "code",
   "execution_count": 4,
   "id": "9864b296",
   "metadata": {},
   "outputs": [],
   "source": [
    "import pandas as pd\n",
    "import numpy as np\n",
    "import matplotlib.pyplot as plt\n",
    "import seaborn as sns"
   ]
  },
  {
   "cell_type": "code",
   "execution_count": 5,
   "id": "559058b9",
   "metadata": {},
   "outputs": [],
   "source": [
    "import warnings\n",
    "warnings.filterwarnings('ignore')"
   ]
  },
  {
   "cell_type": "markdown",
   "id": "c1dcacbe",
   "metadata": {},
   "source": [
    "## Задача 1"
   ]
  },
  {
   "cell_type": "markdown",
   "id": "28688417",
   "metadata": {},
   "source": [
    "Необходимо сделать:\n",
    "\n",
    "1) Перевести название колонок в стандарт PEP8:\n",
    "- перевести в нижний регистр\n",
    "- пробелы между словами заменить на _\n",
    "- язык сохранить - кириллица\n",
    "\n",
    "2) Рассчитать основные статистики для категориальных данных с помощью функции describe().\n",
    "\n",
    "3) На экран вывести результат в виде таблицы DataFrame. Индексами сделать названия факторов."
   ]
  },
  {
   "cell_type": "code",
   "execution_count": 8,
   "id": "b41f947c",
   "metadata": {},
   "outputs": [],
   "source": [
    "PATH_OUT = r'C:\\Users\\Admin\\anaconda_projects\\db\\2'"
   ]
  },
  {
   "cell_type": "code",
   "execution_count": 9,
   "id": "1f8befc3",
   "metadata": {},
   "outputs": [],
   "source": [
    "df = pd.read_csv(PATH_OUT + '\\\\upload2.csv',sep=',', encoding='cp1251', skipinitialspace=True, decimal=',')\n",
    "df = df.dropna()  # удалили строки с пропусками\n",
    "df.columns = (df.columns.str.lower()\n",
    "              .str.replace(' ', '_')\n",
    "              .str.replace('-', '_'))"
   ]
  },
  {
   "cell_type": "code",
   "execution_count": 10,
   "id": "ded7c44b",
   "metadata": {
    "scrolled": true
   },
   "outputs": [
    {
     "name": "stdout",
     "output_type": "stream",
     "text": [
      "<class 'pandas.core.frame.DataFrame'>\n",
      "RangeIndex: 1300 entries, 0 to 1299\n",
      "Data columns (total 14 columns):\n",
      " #   Column                               Non-Null Count  Dtype \n",
      "---  ------                               --------------  ----- \n",
      " 0   покупательская_активность            1300 non-null   object\n",
      " 1   тип_сервиса                          1300 non-null   object\n",
      " 2   разрешить_сообщать                   1300 non-null   object\n",
      " 3   маркет_актив_6_мес                   1300 non-null   int64 \n",
      " 4   длительность                         1300 non-null   int64 \n",
      " 5   акционные_покупки                    1300 non-null   object\n",
      " 6   популярная_категория                 1300 non-null   object\n",
      " 7   средний_просмотр_категорий_за_визит  1300 non-null   int64 \n",
      " 8   выручка_от_клиента_текущий_месяц     1300 non-null   int64 \n",
      " 9   разность_выручки_тек_прошлый_месяц   1300 non-null   int64 \n",
      " 10  ошибка_сервиса                       1300 non-null   int64 \n",
      " 11  страниц_за_визит                     1300 non-null   int64 \n",
      " 12  всего_минут_текущем_месяце           1300 non-null   int64 \n",
      " 13  всего_минут_предыдущий_месяц         1300 non-null   int64 \n",
      "dtypes: int64(9), object(5)\n",
      "memory usage: 142.3+ KB\n"
     ]
    }
   ],
   "source": [
    "df.info()"
   ]
  },
  {
   "cell_type": "code",
   "execution_count": 11,
   "id": "11b42ebd",
   "metadata": {},
   "outputs": [],
   "source": [
    "df.columns = df.columns.str.lower().str.replace(' ', '_')"
   ]
  },
  {
   "cell_type": "code",
   "execution_count": 12,
   "id": "05a88ab1",
   "metadata": {},
   "outputs": [
    {
     "data": {
      "text/html": [
       "<div>\n",
       "<style scoped>\n",
       "    .dataframe tbody tr th:only-of-type {\n",
       "        vertical-align: middle;\n",
       "    }\n",
       "\n",
       "    .dataframe tbody tr th {\n",
       "        vertical-align: top;\n",
       "    }\n",
       "\n",
       "    .dataframe thead th {\n",
       "        text-align: right;\n",
       "    }\n",
       "</style>\n",
       "<table border=\"1\" class=\"dataframe\">\n",
       "  <thead>\n",
       "    <tr style=\"text-align: right;\">\n",
       "      <th></th>\n",
       "      <th>покупательская_активность</th>\n",
       "      <th>тип_сервиса</th>\n",
       "      <th>разрешить_сообщать</th>\n",
       "      <th>маркет_актив_6_мес</th>\n",
       "      <th>длительность</th>\n",
       "      <th>акционные_покупки</th>\n",
       "      <th>популярная_категория</th>\n",
       "      <th>средний_просмотр_категорий_за_визит</th>\n",
       "      <th>выручка_от_клиента_текущий_месяц</th>\n",
       "      <th>разность_выручки_тек_прошлый_месяц</th>\n",
       "      <th>ошибка_сервиса</th>\n",
       "      <th>страниц_за_визит</th>\n",
       "      <th>всего_минут_текущем_месяце</th>\n",
       "      <th>всего_минут_предыдущий_месяц</th>\n",
       "    </tr>\n",
       "  </thead>\n",
       "  <tbody>\n",
       "    <tr>\n",
       "      <th>0</th>\n",
       "      <td>Снизилась</td>\n",
       "      <td>стандарт</td>\n",
       "      <td>да</td>\n",
       "      <td>2</td>\n",
       "      <td>717</td>\n",
       "      <td>0.22</td>\n",
       "      <td>Техника для красоты и здоровья</td>\n",
       "      <td>2</td>\n",
       "      <td>4425</td>\n",
       "      <td>-605</td>\n",
       "      <td>1</td>\n",
       "      <td>5</td>\n",
       "      <td>14</td>\n",
       "      <td>13</td>\n",
       "    </tr>\n",
       "    <tr>\n",
       "      <th>1</th>\n",
       "      <td>Снизилась</td>\n",
       "      <td>стандарт</td>\n",
       "      <td>да</td>\n",
       "      <td>2</td>\n",
       "      <td>917</td>\n",
       "      <td>0.99</td>\n",
       "      <td>Домашний текстиль</td>\n",
       "      <td>3</td>\n",
       "      <td>4472</td>\n",
       "      <td>-496</td>\n",
       "      <td>2</td>\n",
       "      <td>5</td>\n",
       "      <td>12</td>\n",
       "      <td>10</td>\n",
       "    </tr>\n",
       "    <tr>\n",
       "      <th>2</th>\n",
       "      <td>Снизилась</td>\n",
       "      <td>стандарт</td>\n",
       "      <td>нет</td>\n",
       "      <td>3</td>\n",
       "      <td>369</td>\n",
       "      <td>0.24</td>\n",
       "      <td>Мелкая бытовая техника и электроника</td>\n",
       "      <td>1</td>\n",
       "      <td>4826</td>\n",
       "      <td>-421</td>\n",
       "      <td>1</td>\n",
       "      <td>5</td>\n",
       "      <td>13</td>\n",
       "      <td>8</td>\n",
       "    </tr>\n",
       "  </tbody>\n",
       "</table>\n",
       "</div>"
      ],
      "text/plain": [
       "  покупательская_активность тип_сервиса разрешить_сообщать  \\\n",
       "0                 Снизилась    стандарт                 да   \n",
       "1                 Снизилась    стандарт                 да   \n",
       "2                 Снизилась    стандарт                нет   \n",
       "\n",
       "   маркет_актив_6_мес  длительность акционные_покупки  \\\n",
       "0                   2           717              0.22   \n",
       "1                   2           917              0.99   \n",
       "2                   3           369              0.24   \n",
       "\n",
       "                   популярная_категория  средний_просмотр_категорий_за_визит  \\\n",
       "0        Техника для красоты и здоровья                                    2   \n",
       "1                     Домашний текстиль                                    3   \n",
       "2  Мелкая бытовая техника и электроника                                    1   \n",
       "\n",
       "   выручка_от_клиента_текущий_месяц  разность_выручки_тек_прошлый_месяц  \\\n",
       "0                              4425                                -605   \n",
       "1                              4472                                -496   \n",
       "2                              4826                                -421   \n",
       "\n",
       "   ошибка_сервиса  страниц_за_визит  всего_минут_текущем_месяце  \\\n",
       "0               1                 5                          14   \n",
       "1               2                 5                          12   \n",
       "2               1                 5                          13   \n",
       "\n",
       "   всего_минут_предыдущий_месяц  \n",
       "0                            13  \n",
       "1                            10  \n",
       "2                             8  "
      ]
     },
     "execution_count": 12,
     "metadata": {},
     "output_type": "execute_result"
    }
   ],
   "source": [
    "df.head(3)"
   ]
  },
  {
   "cell_type": "code",
   "execution_count": 13,
   "id": "d459321c",
   "metadata": {},
   "outputs": [
    {
     "data": {
      "text/html": [
       "<div>\n",
       "<style scoped>\n",
       "    .dataframe tbody tr th:only-of-type {\n",
       "        vertical-align: middle;\n",
       "    }\n",
       "\n",
       "    .dataframe tbody tr th {\n",
       "        vertical-align: top;\n",
       "    }\n",
       "\n",
       "    .dataframe thead th {\n",
       "        text-align: right;\n",
       "    }\n",
       "</style>\n",
       "<table border=\"1\" class=\"dataframe\">\n",
       "  <thead>\n",
       "    <tr style=\"text-align: right;\">\n",
       "      <th></th>\n",
       "      <th>покупательская_активность</th>\n",
       "      <th>тип_сервиса</th>\n",
       "      <th>разрешить_сообщать</th>\n",
       "      <th>маркет_актив_6_мес</th>\n",
       "      <th>длительность</th>\n",
       "      <th>акционные_покупки</th>\n",
       "      <th>популярная_категория</th>\n",
       "      <th>средний_просмотр_категорий_за_визит</th>\n",
       "      <th>выручка_от_клиента_текущий_месяц</th>\n",
       "      <th>разность_выручки_тек_прошлый_месяц</th>\n",
       "      <th>ошибка_сервиса</th>\n",
       "      <th>страниц_за_визит</th>\n",
       "      <th>всего_минут_текущем_месяце</th>\n",
       "      <th>всего_минут_предыдущий_месяц</th>\n",
       "    </tr>\n",
       "  </thead>\n",
       "  <tbody>\n",
       "    <tr>\n",
       "      <th>0</th>\n",
       "      <td>Снизилась</td>\n",
       "      <td>стандарт</td>\n",
       "      <td>да</td>\n",
       "      <td>2</td>\n",
       "      <td>717</td>\n",
       "      <td>0.22</td>\n",
       "      <td>Техника для красоты и здоровья</td>\n",
       "      <td>2</td>\n",
       "      <td>4425</td>\n",
       "      <td>-605</td>\n",
       "      <td>1</td>\n",
       "      <td>5</td>\n",
       "      <td>14</td>\n",
       "      <td>13</td>\n",
       "    </tr>\n",
       "    <tr>\n",
       "      <th>1</th>\n",
       "      <td>Снизилась</td>\n",
       "      <td>стандарт</td>\n",
       "      <td>да</td>\n",
       "      <td>2</td>\n",
       "      <td>917</td>\n",
       "      <td>0.99</td>\n",
       "      <td>Домашний текстиль</td>\n",
       "      <td>3</td>\n",
       "      <td>4472</td>\n",
       "      <td>-496</td>\n",
       "      <td>2</td>\n",
       "      <td>5</td>\n",
       "      <td>12</td>\n",
       "      <td>10</td>\n",
       "    </tr>\n",
       "    <tr>\n",
       "      <th>2</th>\n",
       "      <td>Снизилась</td>\n",
       "      <td>стандарт</td>\n",
       "      <td>нет</td>\n",
       "      <td>3</td>\n",
       "      <td>369</td>\n",
       "      <td>0.24</td>\n",
       "      <td>Мелкая бытовая техника и электроника</td>\n",
       "      <td>1</td>\n",
       "      <td>4826</td>\n",
       "      <td>-421</td>\n",
       "      <td>1</td>\n",
       "      <td>5</td>\n",
       "      <td>13</td>\n",
       "      <td>8</td>\n",
       "    </tr>\n",
       "    <tr>\n",
       "      <th>3</th>\n",
       "      <td>Снизилась</td>\n",
       "      <td>стандарт</td>\n",
       "      <td>да</td>\n",
       "      <td>4</td>\n",
       "      <td>814</td>\n",
       "      <td>0.99</td>\n",
       "      <td>Домашний текстиль</td>\n",
       "      <td>3</td>\n",
       "      <td>4793</td>\n",
       "      <td>-910</td>\n",
       "      <td>6</td>\n",
       "      <td>4</td>\n",
       "      <td>13</td>\n",
       "      <td>11</td>\n",
       "    </tr>\n",
       "    <tr>\n",
       "      <th>4</th>\n",
       "      <td>Снизилась</td>\n",
       "      <td>стандарт</td>\n",
       "      <td>нет</td>\n",
       "      <td>2</td>\n",
       "      <td>409</td>\n",
       "      <td>0.23</td>\n",
       "      <td>Косметика и аксесуары</td>\n",
       "      <td>2</td>\n",
       "      <td>4594</td>\n",
       "      <td>-809</td>\n",
       "      <td>3</td>\n",
       "      <td>2</td>\n",
       "      <td>11</td>\n",
       "      <td>8</td>\n",
       "    </tr>\n",
       "    <tr>\n",
       "      <th>...</th>\n",
       "      <td>...</td>\n",
       "      <td>...</td>\n",
       "      <td>...</td>\n",
       "      <td>...</td>\n",
       "      <td>...</td>\n",
       "      <td>...</td>\n",
       "      <td>...</td>\n",
       "      <td>...</td>\n",
       "      <td>...</td>\n",
       "      <td>...</td>\n",
       "      <td>...</td>\n",
       "      <td>...</td>\n",
       "      <td>...</td>\n",
       "      <td>...</td>\n",
       "    </tr>\n",
       "    <tr>\n",
       "      <th>1295</th>\n",
       "      <td>Прежний уровень</td>\n",
       "      <td>стандарт</td>\n",
       "      <td>да</td>\n",
       "      <td>7</td>\n",
       "      <td>218</td>\n",
       "      <td>0.16</td>\n",
       "      <td>Товары для детей</td>\n",
       "      <td>5</td>\n",
       "      <td>4704</td>\n",
       "      <td>-729</td>\n",
       "      <td>3</td>\n",
       "      <td>11</td>\n",
       "      <td>7</td>\n",
       "      <td>14</td>\n",
       "    </tr>\n",
       "    <tr>\n",
       "      <th>1296</th>\n",
       "      <td>Прежний уровень</td>\n",
       "      <td>премиум</td>\n",
       "      <td>нет</td>\n",
       "      <td>5</td>\n",
       "      <td>753</td>\n",
       "      <td>0.21</td>\n",
       "      <td>Техника для красоты и здоровья</td>\n",
       "      <td>3</td>\n",
       "      <td>5299</td>\n",
       "      <td>-380</td>\n",
       "      <td>3</td>\n",
       "      <td>9</td>\n",
       "      <td>11</td>\n",
       "      <td>12</td>\n",
       "    </tr>\n",
       "    <tr>\n",
       "      <th>1297</th>\n",
       "      <td>Прежний уровень</td>\n",
       "      <td>стандарт</td>\n",
       "      <td>да</td>\n",
       "      <td>4</td>\n",
       "      <td>762</td>\n",
       "      <td>0.20</td>\n",
       "      <td>Кухонная посуда</td>\n",
       "      <td>3</td>\n",
       "      <td>5334</td>\n",
       "      <td>116</td>\n",
       "      <td>5</td>\n",
       "      <td>7</td>\n",
       "      <td>18</td>\n",
       "      <td>12</td>\n",
       "    </tr>\n",
       "    <tr>\n",
       "      <th>1298</th>\n",
       "      <td>Прежний уровень</td>\n",
       "      <td>стандарт</td>\n",
       "      <td>да</td>\n",
       "      <td>6</td>\n",
       "      <td>452</td>\n",
       "      <td>0.12</td>\n",
       "      <td>Домашний текстиль</td>\n",
       "      <td>4</td>\n",
       "      <td>4725</td>\n",
       "      <td>-132</td>\n",
       "      <td>5</td>\n",
       "      <td>7</td>\n",
       "      <td>7</td>\n",
       "      <td>18</td>\n",
       "    </tr>\n",
       "    <tr>\n",
       "      <th>1299</th>\n",
       "      <td>Прежний уровень</td>\n",
       "      <td>стандарт</td>\n",
       "      <td>да</td>\n",
       "      <td>4</td>\n",
       "      <td>691</td>\n",
       "      <td>0.94</td>\n",
       "      <td>Техника для красоты и здоровья</td>\n",
       "      <td>6</td>\n",
       "      <td>5183</td>\n",
       "      <td>309</td>\n",
       "      <td>3</td>\n",
       "      <td>12</td>\n",
       "      <td>10</td>\n",
       "      <td>15</td>\n",
       "    </tr>\n",
       "  </tbody>\n",
       "</table>\n",
       "<p>1300 rows × 14 columns</p>\n",
       "</div>"
      ],
      "text/plain": [
       "     покупательская_активность тип_сервиса разрешить_сообщать  \\\n",
       "0                    Снизилась    стандарт                 да   \n",
       "1                    Снизилась    стандарт                 да   \n",
       "2                    Снизилась    стандарт                нет   \n",
       "3                    Снизилась    стандарт                 да   \n",
       "4                    Снизилась    стандарт                нет   \n",
       "...                        ...         ...                ...   \n",
       "1295           Прежний уровень    стандарт                 да   \n",
       "1296           Прежний уровень     премиум                нет   \n",
       "1297           Прежний уровень    стандарт                 да   \n",
       "1298           Прежний уровень    стандарт                 да   \n",
       "1299           Прежний уровень    стандарт                 да   \n",
       "\n",
       "      маркет_актив_6_мес  длительность  акционные_покупки  \\\n",
       "0                      2           717               0.22   \n",
       "1                      2           917               0.99   \n",
       "2                      3           369               0.24   \n",
       "3                      4           814               0.99   \n",
       "4                      2           409               0.23   \n",
       "...                  ...           ...                ...   \n",
       "1295                   7           218               0.16   \n",
       "1296                   5           753               0.21   \n",
       "1297                   4           762               0.20   \n",
       "1298                   6           452               0.12   \n",
       "1299                   4           691               0.94   \n",
       "\n",
       "                      популярная_категория  \\\n",
       "0           Техника для красоты и здоровья   \n",
       "1                        Домашний текстиль   \n",
       "2     Мелкая бытовая техника и электроника   \n",
       "3                        Домашний текстиль   \n",
       "4                    Косметика и аксесуары   \n",
       "...                                    ...   \n",
       "1295                      Товары для детей   \n",
       "1296        Техника для красоты и здоровья   \n",
       "1297                       Кухонная посуда   \n",
       "1298                     Домашний текстиль   \n",
       "1299        Техника для красоты и здоровья   \n",
       "\n",
       "      средний_просмотр_категорий_за_визит  выручка_от_клиента_текущий_месяц  \\\n",
       "0                                       2                              4425   \n",
       "1                                       3                              4472   \n",
       "2                                       1                              4826   \n",
       "3                                       3                              4793   \n",
       "4                                       2                              4594   \n",
       "...                                   ...                               ...   \n",
       "1295                                    5                              4704   \n",
       "1296                                    3                              5299   \n",
       "1297                                    3                              5334   \n",
       "1298                                    4                              4725   \n",
       "1299                                    6                              5183   \n",
       "\n",
       "      разность_выручки_тек_прошлый_месяц  ошибка_сервиса  страниц_за_визит  \\\n",
       "0                                   -605               1                 5   \n",
       "1                                   -496               2                 5   \n",
       "2                                   -421               1                 5   \n",
       "3                                   -910               6                 4   \n",
       "4                                   -809               3                 2   \n",
       "...                                  ...             ...               ...   \n",
       "1295                                -729               3                11   \n",
       "1296                                -380               3                 9   \n",
       "1297                                 116               5                 7   \n",
       "1298                                -132               5                 7   \n",
       "1299                                 309               3                12   \n",
       "\n",
       "      всего_минут_текущем_месяце  всего_минут_предыдущий_месяц  \n",
       "0                             14                            13  \n",
       "1                             12                            10  \n",
       "2                             13                             8  \n",
       "3                             13                            11  \n",
       "4                             11                             8  \n",
       "...                          ...                           ...  \n",
       "1295                           7                            14  \n",
       "1296                          11                            12  \n",
       "1297                          18                            12  \n",
       "1298                           7                            18  \n",
       "1299                          10                            15  \n",
       "\n",
       "[1300 rows x 14 columns]"
      ]
     },
     "execution_count": 13,
     "metadata": {},
     "output_type": "execute_result"
    }
   ],
   "source": [
    "df['акционные_покупки'] = df['акционные_покупки'].astype(float)\n",
    "df"
   ]
  },
  {
   "cell_type": "markdown",
   "id": "15cdef64",
   "metadata": {},
   "source": [
    "### дополнительные инструменты"
   ]
  },
  {
   "cell_type": "code",
   "execution_count": 15,
   "id": "7fe21273",
   "metadata": {},
   "outputs": [],
   "source": [
    "coumns_cat = df.select_dtypes(include=[object]).columns"
   ]
  },
  {
   "cell_type": "code",
   "execution_count": 16,
   "id": "616624c3",
   "metadata": {},
   "outputs": [
    {
     "data": {
      "text/plain": [
       "Index(['покупательская_активность', 'тип_сервиса', 'разрешить_сообщать',\n",
       "       'популярная_категория'],\n",
       "      dtype='object')"
      ]
     },
     "execution_count": 16,
     "metadata": {},
     "output_type": "execute_result"
    }
   ],
   "source": [
    "coumns_cat"
   ]
  },
  {
   "cell_type": "code",
   "execution_count": 17,
   "id": "860a0f66",
   "metadata": {},
   "outputs": [
    {
     "data": {
      "text/html": [
       "<div>\n",
       "<style scoped>\n",
       "    .dataframe tbody tr th:only-of-type {\n",
       "        vertical-align: middle;\n",
       "    }\n",
       "\n",
       "    .dataframe tbody tr th {\n",
       "        vertical-align: top;\n",
       "    }\n",
       "\n",
       "    .dataframe thead th {\n",
       "        text-align: right;\n",
       "    }\n",
       "</style>\n",
       "<table border=\"1\" class=\"dataframe\">\n",
       "  <thead>\n",
       "    <tr style=\"text-align: right;\">\n",
       "      <th></th>\n",
       "      <th>маркет_актив_6_мес</th>\n",
       "      <th>длительность</th>\n",
       "      <th>акционные_покупки</th>\n",
       "      <th>средний_просмотр_категорий_за_визит</th>\n",
       "      <th>выручка_от_клиента_текущий_месяц</th>\n",
       "      <th>разность_выручки_тек_прошлый_месяц</th>\n",
       "      <th>ошибка_сервиса</th>\n",
       "      <th>страниц_за_визит</th>\n",
       "      <th>всего_минут_текущем_месяце</th>\n",
       "      <th>всего_минут_предыдущий_месяц</th>\n",
       "    </tr>\n",
       "  </thead>\n",
       "  <tbody>\n",
       "    <tr>\n",
       "      <th>0</th>\n",
       "      <td>2</td>\n",
       "      <td>717</td>\n",
       "      <td>0.22</td>\n",
       "      <td>2</td>\n",
       "      <td>4425</td>\n",
       "      <td>-605</td>\n",
       "      <td>1</td>\n",
       "      <td>5</td>\n",
       "      <td>14</td>\n",
       "      <td>13</td>\n",
       "    </tr>\n",
       "    <tr>\n",
       "      <th>1</th>\n",
       "      <td>2</td>\n",
       "      <td>917</td>\n",
       "      <td>0.99</td>\n",
       "      <td>3</td>\n",
       "      <td>4472</td>\n",
       "      <td>-496</td>\n",
       "      <td>2</td>\n",
       "      <td>5</td>\n",
       "      <td>12</td>\n",
       "      <td>10</td>\n",
       "    </tr>\n",
       "    <tr>\n",
       "      <th>2</th>\n",
       "      <td>3</td>\n",
       "      <td>369</td>\n",
       "      <td>0.24</td>\n",
       "      <td>1</td>\n",
       "      <td>4826</td>\n",
       "      <td>-421</td>\n",
       "      <td>1</td>\n",
       "      <td>5</td>\n",
       "      <td>13</td>\n",
       "      <td>8</td>\n",
       "    </tr>\n",
       "  </tbody>\n",
       "</table>\n",
       "</div>"
      ],
      "text/plain": [
       "   маркет_актив_6_мес  длительность  акционные_покупки  \\\n",
       "0                   2           717               0.22   \n",
       "1                   2           917               0.99   \n",
       "2                   3           369               0.24   \n",
       "\n",
       "   средний_просмотр_категорий_за_визит  выручка_от_клиента_текущий_месяц  \\\n",
       "0                                    2                              4425   \n",
       "1                                    3                              4472   \n",
       "2                                    1                              4826   \n",
       "\n",
       "   разность_выручки_тек_прошлый_месяц  ошибка_сервиса  страниц_за_визит  \\\n",
       "0                                -605               1                 5   \n",
       "1                                -496               2                 5   \n",
       "2                                -421               1                 5   \n",
       "\n",
       "   всего_минут_текущем_месяце  всего_минут_предыдущий_месяц  \n",
       "0                          14                            13  \n",
       "1                          12                            10  \n",
       "2                          13                             8  "
      ]
     },
     "execution_count": 17,
     "metadata": {},
     "output_type": "execute_result"
    }
   ],
   "source": [
    "df.select_dtypes(exclude=[object]).head(3)"
   ]
  },
  {
   "cell_type": "code",
   "execution_count": 18,
   "id": "bec28cf0",
   "metadata": {},
   "outputs": [
    {
     "data": {
      "text/html": [
       "<div>\n",
       "<style scoped>\n",
       "    .dataframe tbody tr th:only-of-type {\n",
       "        vertical-align: middle;\n",
       "    }\n",
       "\n",
       "    .dataframe tbody tr th {\n",
       "        vertical-align: top;\n",
       "    }\n",
       "\n",
       "    .dataframe thead th {\n",
       "        text-align: right;\n",
       "    }\n",
       "</style>\n",
       "<table border=\"1\" class=\"dataframe\">\n",
       "  <thead>\n",
       "    <tr style=\"text-align: right;\">\n",
       "      <th></th>\n",
       "      <th>count</th>\n",
       "      <th>unique</th>\n",
       "      <th>top</th>\n",
       "      <th>freq</th>\n",
       "    </tr>\n",
       "  </thead>\n",
       "  <tbody>\n",
       "    <tr>\n",
       "      <th>покупательская_активность</th>\n",
       "      <td>1300</td>\n",
       "      <td>2</td>\n",
       "      <td>Прежний уровень</td>\n",
       "      <td>900</td>\n",
       "    </tr>\n",
       "    <tr>\n",
       "      <th>тип_сервиса</th>\n",
       "      <td>1300</td>\n",
       "      <td>2</td>\n",
       "      <td>стандарт</td>\n",
       "      <td>916</td>\n",
       "    </tr>\n",
       "    <tr>\n",
       "      <th>разрешить_сообщать</th>\n",
       "      <td>1300</td>\n",
       "      <td>2</td>\n",
       "      <td>да</td>\n",
       "      <td>967</td>\n",
       "    </tr>\n",
       "    <tr>\n",
       "      <th>популярная_категория</th>\n",
       "      <td>1300</td>\n",
       "      <td>6</td>\n",
       "      <td>Товары для детей</td>\n",
       "      <td>267</td>\n",
       "    </tr>\n",
       "  </tbody>\n",
       "</table>\n",
       "</div>"
      ],
      "text/plain": [
       "                          count unique               top freq\n",
       "покупательская_активность  1300      2   Прежний уровень  900\n",
       "тип_сервиса                1300      2          стандарт  916\n",
       "разрешить_сообщать         1300      2                да  967\n",
       "популярная_категория       1300      6  Товары для детей  267"
      ]
     },
     "execution_count": 18,
     "metadata": {},
     "output_type": "execute_result"
    }
   ],
   "source": [
    "df.select_dtypes(include=[object]).describe().T"
   ]
  },
  {
   "cell_type": "markdown",
   "id": "53a0f5bb",
   "metadata": {},
   "source": [
    "## Задача 2"
   ]
  },
  {
   "cell_type": "markdown",
   "id": "5e9f3e14",
   "metadata": {},
   "source": [
    "Необходимо сделать:\n",
    "\n",
    "\n",
    "1) Перевести название колонок в стандарт PEP8:\n",
    "- перевести в нижний регистр\n",
    "- пробелы между словами заменить на _\n",
    "- язык сохранить - кириллица\n",
    "\n",
    "3) Рассчитать основные статистики для фактора \"разность_выручки_тек_прошлый_месяц\" с помощью функции describe(). При этом расчёт произвести по группам фактора \"покупательская_активность.\"\n",
    "\n",
    "3) На экран вывести результат в виде таблицы DataFrame. Перевести в целочисленный тип."
   ]
  },
  {
   "cell_type": "code",
   "execution_count": 21,
   "id": "51bc0687",
   "metadata": {},
   "outputs": [
    {
     "data": {
      "text/html": [
       "<div>\n",
       "<style scoped>\n",
       "    .dataframe tbody tr th:only-of-type {\n",
       "        vertical-align: middle;\n",
       "    }\n",
       "\n",
       "    .dataframe tbody tr th {\n",
       "        vertical-align: top;\n",
       "    }\n",
       "\n",
       "    .dataframe thead th {\n",
       "        text-align: right;\n",
       "    }\n",
       "</style>\n",
       "<table border=\"1\" class=\"dataframe\">\n",
       "  <thead>\n",
       "    <tr style=\"text-align: right;\">\n",
       "      <th></th>\n",
       "      <th>count</th>\n",
       "      <th>mean</th>\n",
       "      <th>std</th>\n",
       "      <th>min</th>\n",
       "      <th>25%</th>\n",
       "      <th>50%</th>\n",
       "      <th>75%</th>\n",
       "      <th>max</th>\n",
       "    </tr>\n",
       "    <tr>\n",
       "      <th>покупательская_активность</th>\n",
       "      <th></th>\n",
       "      <th></th>\n",
       "      <th></th>\n",
       "      <th></th>\n",
       "      <th></th>\n",
       "      <th></th>\n",
       "      <th></th>\n",
       "      <th></th>\n",
       "    </tr>\n",
       "  </thead>\n",
       "  <tbody>\n",
       "    <tr>\n",
       "      <th>Прежний уровень</th>\n",
       "      <td>900.0</td>\n",
       "      <td>-111.208889</td>\n",
       "      <td>360.479585</td>\n",
       "      <td>-1013.0</td>\n",
       "      <td>-377.25</td>\n",
       "      <td>-107.0</td>\n",
       "      <td>151.00</td>\n",
       "      <td>698.0</td>\n",
       "    </tr>\n",
       "    <tr>\n",
       "      <th>Снизилась</th>\n",
       "      <td>400.0</td>\n",
       "      <td>-497.960000</td>\n",
       "      <td>321.841644</td>\n",
       "      <td>-1378.0</td>\n",
       "      <td>-726.50</td>\n",
       "      <td>-503.0</td>\n",
       "      <td>-272.75</td>\n",
       "      <td>265.0</td>\n",
       "    </tr>\n",
       "  </tbody>\n",
       "</table>\n",
       "</div>"
      ],
      "text/plain": [
       "                           count        mean         std     min     25%  \\\n",
       "покупательская_активность                                                  \n",
       "Прежний уровень            900.0 -111.208889  360.479585 -1013.0 -377.25   \n",
       "Снизилась                  400.0 -497.960000  321.841644 -1378.0 -726.50   \n",
       "\n",
       "                             50%     75%    max  \n",
       "покупательская_активность                        \n",
       "Прежний уровень           -107.0  151.00  698.0  \n",
       "Снизилась                 -503.0 -272.75  265.0  "
      ]
     },
     "execution_count": 21,
     "metadata": {},
     "output_type": "execute_result"
    }
   ],
   "source": [
    "df.groupby('покупательская_активность')['разность_выручки_тек_прошлый_месяц'].describe()"
   ]
  },
  {
   "cell_type": "code",
   "execution_count": 22,
   "id": "60b0cca1",
   "metadata": {},
   "outputs": [
    {
     "name": "stdout",
     "output_type": "stream",
     "text": [
      "<class 'pandas.core.frame.DataFrame'>\n",
      "Index: 864 entries, -1378 to 698\n",
      "Data columns (total 4 columns):\n",
      " #   Column  Non-Null Count  Dtype \n",
      "---  ------  --------------  ----- \n",
      " 0   count   864 non-null    object\n",
      " 1   unique  864 non-null    object\n",
      " 2   top     864 non-null    object\n",
      " 3   freq    864 non-null    object\n",
      "dtypes: object(4)\n",
      "memory usage: 33.8+ KB\n"
     ]
    }
   ],
   "source": [
    "df1 = df.groupby('разность_выручки_тек_прошлый_месяц')['покупательская_активность'].describe()\n",
    "df1.info()"
   ]
  },
  {
   "cell_type": "code",
   "execution_count": 23,
   "id": "45f4816b",
   "metadata": {},
   "outputs": [
    {
     "data": {
      "text/html": [
       "<div>\n",
       "<style scoped>\n",
       "    .dataframe tbody tr th:only-of-type {\n",
       "        vertical-align: middle;\n",
       "    }\n",
       "\n",
       "    .dataframe tbody tr th {\n",
       "        vertical-align: top;\n",
       "    }\n",
       "\n",
       "    .dataframe thead th {\n",
       "        text-align: right;\n",
       "    }\n",
       "</style>\n",
       "<table border=\"1\" class=\"dataframe\">\n",
       "  <thead>\n",
       "    <tr style=\"text-align: right;\">\n",
       "      <th></th>\n",
       "      <th>разность_выручки_тек_прошлый_месяц</th>\n",
       "      <th>count</th>\n",
       "      <th>unique</th>\n",
       "      <th>top</th>\n",
       "      <th>freq</th>\n",
       "    </tr>\n",
       "  </thead>\n",
       "  <tbody>\n",
       "    <tr>\n",
       "      <th>0</th>\n",
       "      <td>-1378</td>\n",
       "      <td>1</td>\n",
       "      <td>1</td>\n",
       "      <td>Снизилась</td>\n",
       "      <td>1</td>\n",
       "    </tr>\n",
       "    <tr>\n",
       "      <th>1</th>\n",
       "      <td>-1270</td>\n",
       "      <td>1</td>\n",
       "      <td>1</td>\n",
       "      <td>Снизилась</td>\n",
       "      <td>1</td>\n",
       "    </tr>\n",
       "    <tr>\n",
       "      <th>2</th>\n",
       "      <td>-1241</td>\n",
       "      <td>1</td>\n",
       "      <td>1</td>\n",
       "      <td>Снизилась</td>\n",
       "      <td>1</td>\n",
       "    </tr>\n",
       "    <tr>\n",
       "      <th>3</th>\n",
       "      <td>-1231</td>\n",
       "      <td>1</td>\n",
       "      <td>1</td>\n",
       "      <td>Снизилась</td>\n",
       "      <td>1</td>\n",
       "    </tr>\n",
       "    <tr>\n",
       "      <th>4</th>\n",
       "      <td>-1221</td>\n",
       "      <td>1</td>\n",
       "      <td>1</td>\n",
       "      <td>Снизилась</td>\n",
       "      <td>1</td>\n",
       "    </tr>\n",
       "    <tr>\n",
       "      <th>...</th>\n",
       "      <td>...</td>\n",
       "      <td>...</td>\n",
       "      <td>...</td>\n",
       "      <td>...</td>\n",
       "      <td>...</td>\n",
       "    </tr>\n",
       "    <tr>\n",
       "      <th>859</th>\n",
       "      <td>652</td>\n",
       "      <td>1</td>\n",
       "      <td>1</td>\n",
       "      <td>Прежний уровень</td>\n",
       "      <td>1</td>\n",
       "    </tr>\n",
       "    <tr>\n",
       "      <th>860</th>\n",
       "      <td>672</td>\n",
       "      <td>2</td>\n",
       "      <td>1</td>\n",
       "      <td>Прежний уровень</td>\n",
       "      <td>2</td>\n",
       "    </tr>\n",
       "    <tr>\n",
       "      <th>861</th>\n",
       "      <td>673</td>\n",
       "      <td>1</td>\n",
       "      <td>1</td>\n",
       "      <td>Прежний уровень</td>\n",
       "      <td>1</td>\n",
       "    </tr>\n",
       "    <tr>\n",
       "      <th>862</th>\n",
       "      <td>684</td>\n",
       "      <td>2</td>\n",
       "      <td>1</td>\n",
       "      <td>Прежний уровень</td>\n",
       "      <td>2</td>\n",
       "    </tr>\n",
       "    <tr>\n",
       "      <th>863</th>\n",
       "      <td>698</td>\n",
       "      <td>1</td>\n",
       "      <td>1</td>\n",
       "      <td>Прежний уровень</td>\n",
       "      <td>1</td>\n",
       "    </tr>\n",
       "  </tbody>\n",
       "</table>\n",
       "<p>864 rows × 5 columns</p>\n",
       "</div>"
      ],
      "text/plain": [
       "     разность_выручки_тек_прошлый_месяц count unique              top freq\n",
       "0                                 -1378     1      1        Снизилась    1\n",
       "1                                 -1270     1      1        Снизилась    1\n",
       "2                                 -1241     1      1        Снизилась    1\n",
       "3                                 -1231     1      1        Снизилась    1\n",
       "4                                 -1221     1      1        Снизилась    1\n",
       "..                                  ...   ...    ...              ...  ...\n",
       "859                                 652     1      1  Прежний уровень    1\n",
       "860                                 672     2      1  Прежний уровень    2\n",
       "861                                 673     1      1  Прежний уровень    1\n",
       "862                                 684     2      1  Прежний уровень    2\n",
       "863                                 698     1      1  Прежний уровень    1\n",
       "\n",
       "[864 rows x 5 columns]"
      ]
     },
     "execution_count": 23,
     "metadata": {},
     "output_type": "execute_result"
    }
   ],
   "source": [
    "df1.reset_index()"
   ]
  },
  {
   "cell_type": "markdown",
   "id": "43199caa",
   "metadata": {},
   "source": [
    "## Задача 3"
   ]
  },
  {
   "cell_type": "markdown",
   "id": "d4c6593f",
   "metadata": {},
   "source": [
    "Необходимо:\n",
    "1) Перевести название колонок в стандарт PEP8:\n",
    "- перевести в нижний регистр\n",
    "- пробелы между словами заменить на _\n",
    "- язык сохранить - кириллица\n",
    "\n",
    "2) Построить простую гистограмму, не изменяя настройки по умолчанию, по столбцу, название которого вводится. Гарантируется, что будет введено название столбца с числовым типом.\n",
    "Сохраните гистограмму в файл target_2_3.png."
   ]
  },
  {
   "cell_type": "code",
   "execution_count": 26,
   "id": "f3c26240",
   "metadata": {},
   "outputs": [
    {
     "data": {
      "image/png": "[encoded data removed]",
      "text/plain": [
       "<Figure size 640x480 with 1 Axes>"
      ]
     },
     "metadata": {},
     "output_type": "display_data"
    }
   ],
   "source": [
    "df.hist(column='выручка_от_клиента_текущий_месяц')\n",
    "\n",
    "# plt.savefig('target_2_3.png')\n",
    "plt.show()"
   ]
  },
  {
   "cell_type": "code",
   "execution_count": 27,
   "id": "cb32b0d7-11ab-4e99-8a08-32aa202f93f4",
   "metadata": {},
   "outputs": [
    {
     "name": "stdin",
     "output_type": "stream",
     "text": [
      " выручка_от_клиента_текущий_месяц\n"
     ]
    },
    {
     "data": {
      "image/png": "[encoded data removed]",
      "text/plain": [
       "<Figure size 640x480 with 1 Axes>"
      ]
     },
     "metadata": {},
     "output_type": "display_data"
    }
   ],
   "source": [
    "int_column = str(input())\n",
    "df.hist(column=int_column)\n",
    "plt.show()"
   ]
  },
  {
   "cell_type": "code",
   "execution_count": 36,
   "id": "de39bd89",
   "metadata": {},
   "outputs": [
    {
     "data": {
      "image/png": "[encoded data removed]",
      "text/plain": [
       "<Figure size 640x480 with 1 Axes>"
      ]
     },
     "metadata": {},
     "output_type": "display_data"
    }
   ],
   "source": [
    "plt.hist(df['выручка_от_клиента_текущий_месяц'])\n",
    "plt.show()"
   ]
  },
  {
   "cell_type": "markdown",
   "id": "0efcf1f0",
   "metadata": {},
   "source": [
    "### Задача 4"
   ]
  },
  {
   "cell_type": "markdown",
   "id": "10817e53",
   "metadata": {},
   "source": [
    "Необходимо:\n",
    "1) Перевести название колонок в стандарт PEP8:\n",
    "- перевести в нижний регистр\n",
    "- пробелы между словами заменить на _\n",
    "- язык сохранить - кириллица\n",
    "\n",
    "2) Построить график плотности вероятности для факторов в количественной шкале с использованием библиотеки seaborn. При построении учесть:\n",
    "\n",
    "построить график по столбцу, название которого вводится\n",
    "на одном графике строить плотности вероятности по каждой группе из фактора покупательская_активность\n",
    "Настроить только один параметр: наличие цветности под кривой плотности. А сами цвета - оставить по умолчанию\n",
    "\n",
    "Сохраните гистограмму в файл target_2_4.png."
   ]
  },
  {
   "cell_type": "code",
   "execution_count": 38,
   "id": "3b6c4e45",
   "metadata": {},
   "outputs": [
    {
     "data": {
      "image/png": "[encoded data removed]",
      "text/plain": [
       "<Figure size 640x480 with 1 Axes>"
      ]
     },
     "metadata": {},
     "output_type": "display_data"
    }
   ],
   "source": [
    "sns.kdeplot(df, x='выручка_от_клиента_текущий_месяц', hue=\"покупательская_активность\", fill=True)\n",
    "plt.ylabel('')\n",
    "# plt.savefig('target_2_4.png')\n",
    "plt.show()"
   ]
  },
  {
   "cell_type": "code",
   "execution_count": null,
   "id": "3a27993f",
   "metadata": {},
   "outputs": [],
   "source": []
  },
  {
   "cell_type": "markdown",
   "id": "f090c4d5",
   "metadata": {},
   "source": [
    "### Задача 5"
   ]
  },
  {
   "cell_type": "markdown",
   "id": "0dd9185b",
   "metadata": {},
   "source": [
    "Необходимо:\n",
    "1) Перевести название колонок в стандарт PEP8:\n",
    "- перевести в нижний регистр\n",
    "- пробелы между словами заменить на _\n",
    "- язык сохранить - кириллица\n",
    "\n",
    "2) Построить график круговой диаграммы для факторов в категориальной шкале. При построении учесть:\n",
    "\n",
    "построить график по столбцу, название которого вводится\n",
    "доли категорий вывести на графике в формате процента с одним знаком после запятой\n",
    "на графике вывести название категорий\n",
    "остальные параметры оставить по умолчанию\n",
    "\n",
    "Сохраните диаграмму в файл target_2_5.png."
   ]
  },
  {
   "cell_type": "code",
   "execution_count": 94,
   "id": "d4bcc7d7",
   "metadata": {},
   "outputs": [
    {
     "data": {
      "text/plain": [
       "Index(['Прежний уровень', 'Снизилась'], dtype='object', name='покупательская_активность')"
      ]
     },
     "execution_count": 94,
     "metadata": {},
     "output_type": "execute_result"
    }
   ],
   "source": [
    "int_col = 'Покупательская активность'.lower().replace(' ', '_').replace('-', '_')\n",
    "pie = df[int_col].value_counts()\n",
    "pie.index"
   ]
  },
  {
   "cell_type": "code",
   "execution_count": 96,
   "id": "dffc3709",
   "metadata": {},
   "outputs": [
    {
     "data": {
      "image/png": "[encoded data removed]",
      "text/plain": [
       "<Figure size 640x480 with 1 Axes>"
      ]
     },
     "metadata": {},
     "output_type": "display_data"
    }
   ],
   "source": [
    "''''''\n",
    "plt.pie(pie, autopct='%1.1f%%', labels=pie.index)\n",
    "# plt.suptitle(f'Распределение данных по фактору:' {column})\n",
    "# plt.savefig('target_2_5.png')\n",
    "plt.show()"
   ]
  },
  {
   "cell_type": "code",
   "execution_count": 106,
   "id": "5a47df4c",
   "metadata": {},
   "outputs": [
    {
     "data": {
      "image/png": "[encoded data removed]",
      "text/plain": [
       "<Figure size 640x480 with 1 Axes>"
      ]
     },
     "metadata": {},
     "output_type": "display_data"
    },
    {
     "data": {
      "text/plain": [
       "Text(0.5, 1.0, 'выручка_от_клиента_текущий_месяц')"
      ]
     },
     "execution_count": 106,
     "metadata": {},
     "output_type": "execute_result"
    },
    {
     "data": {
      "image/png": "[encoded data removed]",
      "text/plain": [
       "<Figure size 640x480 with 1 Axes>"
      ]
     },
     "metadata": {},
     "output_type": "display_data"
    }
   ],
   "source": [
    "int_column = 'Выручка_от_клиента_текущий_месяц'.strip().lower().replace(' ', '_')\n",
    "df[int_column].hist()\n",
    "\n",
    "plt.savefig('target_2_3.png')\n",
    "plt.show()\n",
    "plt.title(int_column)\n"
   ]
  },
  {
   "cell_type": "markdown",
   "id": "447f6151",
   "metadata": {},
   "source": [
    "## Задача 6"
   ]
  },
  {
   "cell_type": "markdown",
   "id": "809b2d57",
   "metadata": {},
   "source": [
    "В этой задаче необходимо сделать:\n",
    "\n",
    "1) Перевести название колонок в стандарт PEP8:\n",
    "- перевести в нижний регистр\n",
    "- пробелы между словами заменить на _\n",
    "- язык сохранить - кириллица\n",
    "\n",
    "3) Создать новую категориальную переменную категории_товаров на основе фактора популярная_категория\n",
    "\n",
    "- Товары для детей обозначить как покупки для детей\n",
    "- Домашний текстиль, Кухонная посуда, Мелкая бытовая техника и электроника обозначить как покупки для быта\n",
    "- Косметика и аксессуары , Техника для красоты и здоровья обозначить как покупки для себя\n",
    "\n",
    "4) Сформировать новый датасет, в котором будут только клиенты, совершившие покупки для быта\n",
    "\n",
    "5) Рассчитать основные статистики для фактора \"разность_выручки_тек_прошлый_месяц\" с помощью функции describe(). При этом расчёт произвести группам покупательская_активность\n",
    "\n",
    "6) Перевести в целочисленный тип. На экран вывести результат в виде таблицы DataFrame."
   ]
  },
  {
   "cell_type": "code",
   "execution_count": 154,
   "id": "8f83ee67",
   "metadata": {},
   "outputs": [
    {
     "data": {
      "text/plain": [
       "популярная_категория\n",
       "Домашний текстиль                       246\n",
       "Мелкая бытовая техника и электроника    240\n",
       "Косметика и аксесуары                   227\n",
       "Кухонная посуда                         139\n",
       "Name: count, dtype: int64"
      ]
     },
     "execution_count": 154,
     "metadata": {},
     "output_type": "execute_result"
    }
   ],
   "source": [
    "df['категории_товаров'] = df['популярная_категория'].apply(\n",
    "    lambda x: 'покупки для детей' if x == 'Товары для детей' else\n",
    "    'покупки для себя' if x in ['Техника для красоты и здоровья', \n",
    "                                'Косметика и аксесуары'] else\n",
    "    'покупки для быта')\n",
    "df.query('категории_товаров == \"покупки для быта\"')['популярная_категория'].value_counts()"
   ]
  },
  {
   "cell_type": "code",
   "execution_count": null,
   "id": "0d266d09-5c2e-44bc-8106-0116b1ea6b71",
   "metadata": {},
   "outputs": [],
   "source": []
  }
 ],
 "metadata": {
  "kernelspec": {
   "display_name": "Python [conda env:base] *",
   "language": "python",
   "name": "conda-base-py"
  },
  "language_info": {
   "codemirror_mode": {
    "name": "ipython",
    "version": 3
   },
   "file_extension": ".py",
   "mimetype": "text/x-python",
   "name": "python",
   "nbconvert_exporter": "python",
   "pygments_lexer": "ipython3",
   "version": "3.12.7"
  }
 },
 "nbformat": 4,
 "nbformat_minor": 5
}

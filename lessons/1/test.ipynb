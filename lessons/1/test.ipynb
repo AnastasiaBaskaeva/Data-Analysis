{
 "cells": [
  {
   "cell_type": "code",
   "execution_count": 6,
   "id": "cca2e787-761d-4d14-9f4c-e1cb1ba9b78c",
   "metadata": {},
   "outputs": [
    {
     "name": "stdout",
     "output_type": "stream",
     "text": [
      "2997 12\n"
     ]
    }
   ],
   "source": [
    "import pandas as pd\n",
    "\n",
    "PATH_OUT = r'C:\\Users\\Admin\\anaconda_projects\\db'\n",
    "df = pd.read_csv(PATH_OUT + '\\\\upload.csv', sep=';', encoding='cp1251', na_values=[' '], decimal=',') #skipinitialspace=True\n",
    "df = df.dropna()\n",
    "print(df.shape[0], df.shape[1])"
   ]
  },
  {
   "cell_type": "code",
   "execution_count": null,
   "id": "2fbc026e-8c76-4acd-b2b5-0124e52ce9ed",
   "metadata": {},
   "outputs": [],
   "source": []
  },
  {
   "cell_type": "code",
   "execution_count": 18,
   "id": "93aa0586-3dc8-4459-8615-3b9f4aeeb782",
   "metadata": {},
   "outputs": [
    {
     "name": "stdout",
     "output_type": "stream",
     "text": [
      "   возраст путешествует_с_детьми\n",
      "0       56                   нет\n",
      "1       37                   нет\n",
      "2       48                    да\n",
      "3       59                    да\n",
      "4       34                   нет\n",
      "5       33                   нет\n",
      "6       45                   нет\n",
      "7       42                   нет\n",
      "8       24                   нет\n",
      "9       45                   нет\n"
     ]
    }
   ],
   "source": [
    "df.columns = (df.columns.str.lower()\n",
    "              .str.replace(' ', '_')\n",
    "              .str.replace('-', '_'))\n",
    "# df['возраст'] = df['возраст'].str.replace(',', '.').astype(float) #read_csv(decimal=',')\n",
    "df['возраст'] = df['возраст'].round().astype('int64')\n",
    "print(df[['возраст', 'путешествует_с_детьми']].head(10))\n"
   ]
  },
  {
   "cell_type": "code",
   "execution_count": null,
   "id": "abc77673-54ef-4f98-81c8-9f58c7577e63",
   "metadata": {},
   "outputs": [],
   "source": []
  },
  {
   "cell_type": "code",
   "execution_count": 28,
   "id": "025afbf1-345d-430d-bd43-b75dca520bc1",
   "metadata": {
    "scrolled": true
   },
   "outputs": [
    {
     "name": "stdout",
     "output_type": "stream",
     "text": [
      "<class 'pandas.core.series.Series'>\n",
      "Index: 2 entries, более_30 to менее_30\n",
      "Series name: proportion\n",
      "Non-Null Count  Dtype  \n",
      "--------------  -----  \n",
      "2 non-null      float64\n",
      "dtypes: float64(1)\n",
      "memory usage: 32.0+ bytes\n"
     ]
    }
   ],
   "source": [
    "df['возраст_кат'] = df['возраст'].apply(lambda x: 'менее_30' if x <= 30 else\n",
    "                                        'более_30')\n",
    "age_counts = df['возраст_кат'].value_counts(normalize=True) * 100\n",
    "age_counts.info()\n",
    "# age_counts = age_counts.round().astype(int)\n",
    "\n",
    "# result = age_counts.to_frame(name='proportion')\n",
    "# print(result)"
   ]
  },
  {
   "cell_type": "code",
   "execution_count": 159,
   "id": "787ea380-6e22-4680-bc5f-d16a1633b9b3",
   "metadata": {},
   "outputs": [
    {
     "data": {
      "text/plain": [
       "путешествует_с_детьми  путешествует_с_детьми  общая_оценка_качества_предоставленной_услуги\n",
       "да                     да                     нормально                                       67.2\n",
       "                                              плохо                                           14.8\n",
       "                                              хорошо                                          18.1\n",
       "нет                    нет                    нормально                                       65.7\n",
       "                                              плохо                                           13.4\n",
       "                                              хорошо                                          21.0\n",
       "dtype: float64"
      ]
     },
     "execution_count": 159,
     "metadata": {},
     "output_type": "execute_result"
    }
   ],
   "source": [
    "# df2 = df[df['общая_оценка_качества_предоставленной_услуги'] == 'плохо']\n",
    "#df.groupby(['путешествует_с_детьми', 'общая_оценка_качества_предоставленной_услуги']).agg(cerff = ('', 'sum')).apply(lambda x: 100 * x / x.sum()).round(1)\n",
    "df.groupby([\"путешествует_с_детьми\", \"общая_оценка_качества_предоставленной_услуги\"]).size().groupby(level=0).apply(lambda x: 100 * x / x.sum()).round(1)"
   ]
  },
  {
   "cell_type": "code",
   "execution_count": 43,
   "id": "053c1342-ff21-4727-9d47-f77dcd0addb1",
   "metadata": {},
   "outputs": [
    {
     "name": "stdout",
     "output_type": "stream",
     "text": [
      "                                                                       0\n",
      "путешествует_с_детьми общая_оценка_качества_предоставленной_услуги      \n",
      "да                    нормально                                     67.2\n",
      "                      плохо                                         14.8\n",
      "                      хорошо                                        18.1\n",
      "нет                   нормально                                     65.7\n",
      "                      плохо                                         13.4\n",
      "                      хорошо                                        21.0\n"
     ]
    }
   ],
   "source": [
    "result = (\n",
    "    df.groupby('путешествует_с_детьми') \n",
    "    ['общая_оценка_качества_предоставленной_услуги']\n",
    "    .value_counts(normalize=True) * 100)\n",
    "print(result.round(1).to_frame(name='0').sort_index())\n"
   ]
  },
  {
   "cell_type": "code",
   "execution_count": null,
   "id": "bd788526-b512-4a41-baab-916b94f9adae",
   "metadata": {},
   "outputs": [],
   "source": []
  }
 ],
 "metadata": {
  "kernelspec": {
   "display_name": "Python [conda env:base] *",
   "language": "python",
   "name": "conda-base-py"
  },
  "language_info": {
   "codemirror_mode": {
    "name": "ipython",
    "version": 3
   },
   "file_extension": ".py",
   "mimetype": "text/x-python",
   "name": "python",
   "nbconvert_exporter": "python",
   "pygments_lexer": "ipython3",
   "version": "3.12.7"
  }
 },
 "nbformat": 4,
 "nbformat_minor": 5
}
